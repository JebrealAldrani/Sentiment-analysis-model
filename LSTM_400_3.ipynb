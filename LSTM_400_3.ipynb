{
  "cells": [
    {
      "cell_type": "code",
      "execution_count": 1,
      "metadata": {
        "colab": {
          "base_uri": "https://localhost:8080/"
        },
        "id": "NecyJHM5cYrk",
        "outputId": "6d640163-1dfd-4b9b-bfc3-2d0d23d6825e"
      },
      "outputs": [],
      "source": [
        "import numpy as np\n",
        "import pandas as pd\n",
        "import tensorflow as tf\n",
        "from tensorflow.keras.preprocessing.text import Tokenizer\n",
        "from tensorflow.keras.preprocessing.sequence import pad_sequences\n",
        "from tensorflow.keras.models import Sequential\n",
        "from tensorflow.keras.layers import Embedding, LSTM, Dense, Dropout, Bidirectional, BatchNormalization, LayerNormalization\n",
        "from tensorflow.keras.callbacks import EarlyStopping, ModelCheckpoint, ReduceLROnPlateau\n",
        "from tensorflow.keras.regularizers import l1_l2\n",
        "from sklearn.model_selection import train_test_split\n",
        "from sklearn.metrics import classification_report\n",
        "from sklearn.feature_extraction.text import TfidfVectorizer\n",
        "import nltk\n",
        "import json\n",
        "from nltk.corpus import stopwords\n",
        "from nltk.tokenize import word_tokenize\n",
        "from nltk.stem import WordNetLemmatizer\n",
        "import matplotlib as plt"
      ]
    },
    {
      "cell_type": "markdown",
      "metadata": {},
      "source": [
        "#### Import data and take 200.000 random reviews"
      ]
    },
    {
      "cell_type": "code",
      "execution_count": 2,
      "metadata": {
        "colab": {
          "base_uri": "https://localhost:8080/",
          "height": 258
        },
        "id": "d0zVaCZ2chuV",
        "outputId": "e380215d-c6e1-4634-c8fa-afc205c76540"
      },
      "outputs": [
        {
          "name": "stdout",
          "output_type": "stream",
          "text": [
            "<class 'pandas.core.frame.DataFrame'>\n",
            "Index: 15140 entries, 0 to 15152\n",
            "Data columns (total 4 columns):\n",
            " #   Column         Non-Null Count  Dtype \n",
            "---  ------         --------------  ----- \n",
            " 0   Game Name      15140 non-null  object\n",
            " 1   Review         15112 non-null  string\n",
            " 2   Rating_binary  15140 non-null  int64 \n",
            " 3   Date           15140 non-null  object\n",
            "dtypes: int64(1), object(2), string(1)\n",
            "memory usage: 591.4+ KB\n"
          ]
        }
      ],
      "source": [
        "# Load Data\n",
        "reviews_df = pd.read_csv('Reviews.csv', on_bad_lines='skip')\n",
        "\n",
        "reviews_df['Review'] = reviews_df['Review'].astype('string')\n",
        "reviews_df = reviews_df.dropna(subset=['Rating_binary'])\n",
        "reviews_df['Rating_binary'] = reviews_df['Rating_binary'].astype(int)\n",
        "# reduce data to 200 thousand review based on label\n",
        "# df_label_0 = reviews_df[reviews_df['label'] == 0].sample(n=100000, random_state=42)\n",
        "# df_label_1 = reviews_df[reviews_df['label'] == 1].sample(n=100000, random_state=42)\n",
        "\n",
        "# # Combine and shuffle\n",
        "# df_reduced = pd.concat([df_label_0, df_label_1]).sample(frac=1, random_state=42).reset_index(drop=True)\n",
        "\n",
        "# reviews_df = df_reduced\n",
        "reviews_df.info()"
      ]
    },
    {
      "cell_type": "code",
      "execution_count": 3,
      "metadata": {},
      "outputs": [
        {
          "data": {
            "text/html": [
              "<div>\n",
              "<style scoped>\n",
              "    .dataframe tbody tr th:only-of-type {\n",
              "        vertical-align: middle;\n",
              "    }\n",
              "\n",
              "    .dataframe tbody tr th {\n",
              "        vertical-align: top;\n",
              "    }\n",
              "\n",
              "    .dataframe thead th {\n",
              "        text-align: right;\n",
              "    }\n",
              "</style>\n",
              "<table border=\"1\" class=\"dataframe\">\n",
              "  <thead>\n",
              "    <tr style=\"text-align: right;\">\n",
              "      <th></th>\n",
              "      <th>Game Name</th>\n",
              "      <th>Review</th>\n",
              "      <th>Rating_binary</th>\n",
              "      <th>Date</th>\n",
              "    </tr>\n",
              "  </thead>\n",
              "  <tbody>\n",
              "    <tr>\n",
              "      <th>0</th>\n",
              "      <td>tryHackMe</td>\n",
              "      <td>It's great platform for fresher to start there...</td>\n",
              "      <td>1</td>\n",
              "      <td>Apr 7, 2025</td>\n",
              "    </tr>\n",
              "    <tr>\n",
              "      <th>1</th>\n",
              "      <td>tryHackMe</td>\n",
              "      <td>A great Platform to start for non-IT guy like me</td>\n",
              "      <td>1</td>\n",
              "      <td>Apr 7, 2025</td>\n",
              "    </tr>\n",
              "    <tr>\n",
              "      <th>2</th>\n",
              "      <td>tryHackMe</td>\n",
              "      <td>Well explained concept</td>\n",
              "      <td>1</td>\n",
              "      <td>Apr 6, 2025</td>\n",
              "    </tr>\n",
              "    <tr>\n",
              "      <th>3</th>\n",
              "      <td>tryHackMe</td>\n",
              "      <td>The tryhackme platform has given me a renewed ...</td>\n",
              "      <td>1</td>\n",
              "      <td>Apr 1, 2025</td>\n",
              "    </tr>\n",
              "    <tr>\n",
              "      <th>4</th>\n",
              "      <td>tryHackMe</td>\n",
              "      <td>virtual machines freeze every few minutes and ...</td>\n",
              "      <td>0</td>\n",
              "      <td>Apr 1, 2025</td>\n",
              "    </tr>\n",
              "  </tbody>\n",
              "</table>\n",
              "</div>"
            ],
            "text/plain": [
              "   Game Name                                             Review  \\\n",
              "0  tryHackMe  It's great platform for fresher to start there...   \n",
              "1  tryHackMe   A great Platform to start for non-IT guy like me   \n",
              "2  tryHackMe                             Well explained concept   \n",
              "3  tryHackMe  The tryhackme platform has given me a renewed ...   \n",
              "4  tryHackMe  virtual machines freeze every few minutes and ...   \n",
              "\n",
              "   Rating_binary         Date  \n",
              "0              1  Apr 7, 2025  \n",
              "1              1  Apr 7, 2025  \n",
              "2              1  Apr 6, 2025  \n",
              "3              1  Apr 1, 2025  \n",
              "4              0  Apr 1, 2025  "
            ]
          },
          "execution_count": 3,
          "metadata": {},
          "output_type": "execute_result"
        }
      ],
      "source": [
        "reviews_df.head()"
      ]
    },
    {
      "cell_type": "code",
      "execution_count": 4,
      "metadata": {},
      "outputs": [],
      "source": [
        "# # Create new 'Text' column by combining 'title' and 'content'\n",
        "# reviews_df['Text'] = reviews_df['title'] + \" \" + reviews_df['content']\n",
        "\n",
        "# # Verify the result\n",
        "# reviews_df.head()"
      ]
    },
    {
      "cell_type": "markdown",
      "metadata": {},
      "source": [
        "#### Visualize the data"
      ]
    },
    {
      "cell_type": "code",
      "execution_count": 5,
      "metadata": {},
      "outputs": [
        {
          "name": "stderr",
          "output_type": "stream",
          "text": [
            "C:\\Users\\DELL\\AppData\\Local\\Temp\\ipykernel_7256\\3600521237.py:10: FutureWarning: \n",
            "\n",
            "Passing `palette` without assigning `hue` is deprecated and will be removed in v0.14.0. Assign the `x` variable to `hue` and set `legend=False` for the same effect.\n",
            "\n",
            "  ax = sns.barplot(x=class_distribution.index,\n"
          ]
        },
        {
          "data": {
            "image/png": "[encoded data removed]",
            "text/plain": [
              "<Figure size 800x600 with 1 Axes>"
            ]
          },
          "metadata": {},
          "output_type": "display_data"
        }
      ],
      "source": [
        "import matplotlib.pyplot as plt\n",
        "import seaborn as sns\n",
        "\n",
        "# Get value counts\n",
        "class_distribution = reviews_df['Rating_binary'].value_counts()\n",
        "\n",
        "plt.figure(figsize=(8, 6))\n",
        "\n",
        "# Bar plot\n",
        "ax = sns.barplot(x=class_distribution.index, \n",
        "                 y=class_distribution.values,\n",
        "                 palette=\"viridis\")\n",
        "\n",
        "# Add annotations\n",
        "for p in ax.patches:\n",
        "    ax.annotate(f'{p.get_height():,.0f}\\n({p.get_height()/len(reviews_df)*100:.1f}%)', \n",
        "                (p.get_x() + p.get_width() / 2., p.get_height()),\n",
        "                ha='center', va='center', \n",
        "                xytext=(0, 10), \n",
        "                textcoords='offset points')\n",
        "\n",
        "# Customize plot\n",
        "plt.title('Class Distribution in Dataset', fontsize=16)\n",
        "plt.xlabel('Class Labels', fontsize=14)\n",
        "plt.ylabel('Count', fontsize=14)\n",
        "plt.xticks(fontsize=12)\n",
        "plt.yticks(fontsize=12)\n",
        "\n",
        "# Show plot\n",
        "plt.tight_layout()\n",
        "plt.show()"
      ]
    },
    {
      "cell_type": "code",
      "execution_count": 3,
      "metadata": {
        "id": "EIX02ghPdyCL"
      },
      "outputs": [
        {
          "name": "stdout",
          "output_type": "stream",
          "text": [
            "{\"it'd\", 'yourselves', 'these', 'own', \"he's\", 'into', 'down', \"don't\", 'more', 'only', 'their', \"we'd\", 'how', 'from', 'so', 'against', 'is', \"she'd\", 'all', 'she', 'same', 'whom', \"she's\", \"shan't\", 'having', \"i'm\", 'but', \"you're\", 'off', 'of', 'again', 'were', \"i've\", \"we've\", 'below', 'should', \"he'll\", \"that'll\", 'yours', 'hadn', 'than', 'shan', 'those', \"i'd\", 'over', \"we're\", 'd', 'a', \"they'll\", 'had', \"needn't\", 'very', \"we'll\", 'yourself', 'ain', 'our', 'about', 'too', 'you', 're', 'does', 'ours', 'each', 'any', 'shouldn', 'we', 'to', 'll', \"you'll\", \"mightn't\", 'they', 'isn', 'further', 'just', 'above', 't', 'other', 'or', 'its', \"hadn't\", 'm', 'with', 'he', 'then', 'out', \"wouldn't\", 'doesn', 'when', 'now', 'him', 'this', 'don', \"mustn't\", 'who', \"they'd\", 'couldn', 'that', 'wasn', 'not', 'most', 'my', 'her', 'ourselves', 'through', \"weren't\", \"doesn't\", 'have', 'on', \"hasn't\", 'o', 'under', 'which', 'as', 'if', \"won't\", 'at', 'such', \"you've\", 'there', 'theirs', 'before', 'the', 'myself', 'aren', \"didn't\", 'few', 'here', 'didn', 'hers', \"he'd\", 'between', 'hasn', 'being', 'in', 'while', 'during', \"shouldn't\", 'ma', 'himself', 'what', \"haven't\", 'was', 'his', 'mustn', 'both', 'some', 'won', \"they've\", \"aren't\", 'your', 'because', 'will', 's', 'up', 'no', 'an', 'been', 'them', 'why', 'nan', 'once', 'until', 'herself', \"wasn't\", 'for', 'it', 'wouldn', 'me', 'themselves', \"i'll\", \"couldn't\", 'itself', \"isn't\", 'i', 'where', 'after', \"it's\", 'haven', 'y', 'by', 'am', 'can', \"it'll\", 'and', 'are', 'nor', 'do', 'doing', 've', \"should've\", 'weren', 'be', \"she'll\", \"you'd\", 'did', 'needn', \"they're\", 'mightn', 'has'}\n"
          ]
        }
      ],
      "source": [
        "# Get English stopwords\n",
        "stop_words = set(stopwords.words('english'))\n",
        "# Add 'nan' to the stopwords set\n",
        "stop_words.add('nan')\n",
        "print(stop_words)"
      ]
    },
    {
      "cell_type": "code",
      "execution_count": 4,
      "metadata": {
        "id": "4Eg3xvTRe3-X"
      },
      "outputs": [],
      "source": [
        "# Initialize lemmatizer\n",
        "lemmatizer = WordNetLemmatizer()"
      ]
    },
    {
      "cell_type": "markdown",
      "metadata": {},
      "source": [
        "#### Definition Pre-process Functions"
      ]
    },
    {
      "cell_type": "code",
      "execution_count": 5,
      "metadata": {
        "id": "EHwh_p4_fZiX"
      },
      "outputs": [],
      "source": [
        "def tokenize_text(df):\n",
        "    # \"\"\" Step 1: Tokenization (Convert text into words) \"\"\"\n",
        "    df['Review'] = df['Review'].astype(str).apply(word_tokenize)\n",
        "    return df\n",
        "\n",
        "def remove_stopwords(df):\n",
        "    # \"\"\" Step 2: Remove Stopwords & Special Characters \"\"\"\n",
        "    df['Review'] = df['Review'].apply(lambda tokens: [word.lower() for word in tokens if word.isalpha() and word.lower() not in stop_words])\n",
        "    return df\n",
        "\n",
        "def lemmatize_text(df):\n",
        "    # \"\"\" Step 3: Lemmatization (Convert words to their root form) \"\"\"\n",
        "    df['Review'] = df['Review'].apply(lambda tokens: [lemmatizer.lemmatize(word) for word in tokens])\n",
        "    return df\n",
        "\n",
        "def join_tokens(df):\n",
        "    # \"\"\" Step 4: Join Tokens Back into a Sentence \"\"\"\n",
        "    df['Review'] = df['Review'].apply(lambda tokens: ' '.join(tokens))\n",
        "    return df\n",
        "\n",
        "def convert_to_tfidf(df):\n",
        "    # \"\"\" Step 5: Convert Text to Numerical Format using TF-IDF \"\"\"\n",
        "    vectorizer = TfidfVectorizer()\n",
        "    tfidf_matrix = vectorizer.fit_transform(df['Review'])\n",
        "    return df, tfidf_matrix, vectorizer"
      ]
    },
    {
      "cell_type": "markdown",
      "metadata": {},
      "source": [
        "#### Create an attention layer"
      ]
    },
    {
      "cell_type": "code",
      "execution_count": 6,
      "metadata": {},
      "outputs": [],
      "source": [
        "from tensorflow.keras.layers import Layer\n",
        "import tensorflow.keras.backend as K\n",
        "\n",
        "class TextAttention(Layer):\n",
        "    def __init__(self, **kwargs):\n",
        "        super(TextAttention, self).__init__(**kwargs)\n",
        "\n",
        "    def build(self, input_shape):\n",
        "        # input_shape: (batch, seq_len, emb_dim)\n",
        "        self.emb_dim = input_shape[-1]\n",
        "        \n",
        "        # Attention weights\n",
        "        self.W = self.add_weight(name=\"att_weight\",\n",
        "                               shape=(self.emb_dim, 1),\n",
        "                               initializer=\"random_normal\",\n",
        "                               trainable=True)\n",
        "        self.b = self.add_weight(name=\"att_bias\",\n",
        "                               shape=(1,),\n",
        "                               initializer=\"zeros\",\n",
        "                               trainable=True)\n",
        "        super(TextAttention, self).build(input_shape)\n",
        "\n",
        "    def call(self, x):\n",
        "        # Compute attention scores\n",
        "        e = K.tanh(K.dot(x, self.W) + self.b)  # (batch, seq_len, 1)\n",
        "        a = K.softmax(e, axis=1)  # (batch, seq_len, 1)\n",
        "        \n",
        "        # Weighted sum\n",
        "        output = x * a  # (batch, seq_len, emb_dim)\n",
        "        return K.sum(output, axis=1)  # (batch, emb_dim)\n",
        "\n",
        "    def compute_output_shape(self, input_shape):\n",
        "        return (input_shape[0], input_shape[-1])"
      ]
    },
    {
      "cell_type": "markdown",
      "metadata": {},
      "source": [
        "#### Pre-process Data"
      ]
    },
    {
      "cell_type": "code",
      "execution_count": 7,
      "metadata": {
        "colab": {
          "base_uri": "https://localhost:8080/",
          "height": 206
        },
        "id": "Yj9fWuBoqENJ",
        "outputId": "ac8207dd-0fa5-4233-9909-6aed54886124"
      },
      "outputs": [
        {
          "data": {
            "text/html": [
              "<div>\n",
              "<style scoped>\n",
              "    .dataframe tbody tr th:only-of-type {\n",
              "        vertical-align: middle;\n",
              "    }\n",
              "\n",
              "    .dataframe tbody tr th {\n",
              "        vertical-align: top;\n",
              "    }\n",
              "\n",
              "    .dataframe thead th {\n",
              "        text-align: right;\n",
              "    }\n",
              "</style>\n",
              "<table border=\"1\" class=\"dataframe\">\n",
              "  <thead>\n",
              "    <tr style=\"text-align: right;\">\n",
              "      <th></th>\n",
              "      <th>Game Name</th>\n",
              "      <th>Review</th>\n",
              "      <th>Rating_binary</th>\n",
              "      <th>Date</th>\n",
              "    </tr>\n",
              "  </thead>\n",
              "  <tbody>\n",
              "    <tr>\n",
              "      <th>0</th>\n",
              "      <td>tryHackMe</td>\n",
              "      <td>[It, 's, great, platform, for, fresher, to, st...</td>\n",
              "      <td>1</td>\n",
              "      <td>Apr 7, 2025</td>\n",
              "    </tr>\n",
              "    <tr>\n",
              "      <th>1</th>\n",
              "      <td>tryHackMe</td>\n",
              "      <td>[A, great, Platform, to, start, for, non-IT, g...</td>\n",
              "      <td>1</td>\n",
              "      <td>Apr 7, 2025</td>\n",
              "    </tr>\n",
              "    <tr>\n",
              "      <th>2</th>\n",
              "      <td>tryHackMe</td>\n",
              "      <td>[Well, explained, concept]</td>\n",
              "      <td>1</td>\n",
              "      <td>Apr 6, 2025</td>\n",
              "    </tr>\n",
              "    <tr>\n",
              "      <th>3</th>\n",
              "      <td>tryHackMe</td>\n",
              "      <td>[The, tryhackme, platform, has, given, me, a, ...</td>\n",
              "      <td>1</td>\n",
              "      <td>Apr 1, 2025</td>\n",
              "    </tr>\n",
              "    <tr>\n",
              "      <th>4</th>\n",
              "      <td>tryHackMe</td>\n",
              "      <td>[virtual, machines, freeze, every, few, minute...</td>\n",
              "      <td>0</td>\n",
              "      <td>Apr 1, 2025</td>\n",
              "    </tr>\n",
              "  </tbody>\n",
              "</table>\n",
              "</div>"
            ],
            "text/plain": [
              "   Game Name                                             Review  \\\n",
              "0  tryHackMe  [It, 's, great, platform, for, fresher, to, st...   \n",
              "1  tryHackMe  [A, great, Platform, to, start, for, non-IT, g...   \n",
              "2  tryHackMe                         [Well, explained, concept]   \n",
              "3  tryHackMe  [The, tryhackme, platform, has, given, me, a, ...   \n",
              "4  tryHackMe  [virtual, machines, freeze, every, few, minute...   \n",
              "\n",
              "   Rating_binary         Date  \n",
              "0              1  Apr 7, 2025  \n",
              "1              1  Apr 7, 2025  \n",
              "2              1  Apr 6, 2025  \n",
              "3              1  Apr 1, 2025  \n",
              "4              0  Apr 1, 2025  "
            ]
          },
          "execution_count": 7,
          "metadata": {},
          "output_type": "execute_result"
        }
      ],
      "source": [
        "reviews_df = tokenize_text(reviews_df)   # Tokenization\n",
        "reviews_df.head()"
      ]
    },
    {
      "cell_type": "code",
      "execution_count": 8,
      "metadata": {
        "colab": {
          "base_uri": "https://localhost:8080/",
          "height": 241
        },
        "id": "-k0JbzaHqH4r",
        "outputId": "bcb073f6-a682-41fd-83e8-46c1f1ab7c93"
      },
      "outputs": [
        {
          "data": {
            "text/html": [
              "<div>\n",
              "<style scoped>\n",
              "    .dataframe tbody tr th:only-of-type {\n",
              "        vertical-align: middle;\n",
              "    }\n",
              "\n",
              "    .dataframe tbody tr th {\n",
              "        vertical-align: top;\n",
              "    }\n",
              "\n",
              "    .dataframe thead th {\n",
              "        text-align: right;\n",
              "    }\n",
              "</style>\n",
              "<table border=\"1\" class=\"dataframe\">\n",
              "  <thead>\n",
              "    <tr style=\"text-align: right;\">\n",
              "      <th></th>\n",
              "      <th>Game Name</th>\n",
              "      <th>Review</th>\n",
              "      <th>Rating_binary</th>\n",
              "      <th>Date</th>\n",
              "    </tr>\n",
              "  </thead>\n",
              "  <tbody>\n",
              "    <tr>\n",
              "      <th>0</th>\n",
              "      <td>tryHackMe</td>\n",
              "      <td>[great, platform, fresher, start, journey, cyb...</td>\n",
              "      <td>1</td>\n",
              "      <td>Apr 7, 2025</td>\n",
              "    </tr>\n",
              "    <tr>\n",
              "      <th>1</th>\n",
              "      <td>tryHackMe</td>\n",
              "      <td>[great, platform, start, guy, like]</td>\n",
              "      <td>1</td>\n",
              "      <td>Apr 7, 2025</td>\n",
              "    </tr>\n",
              "    <tr>\n",
              "      <th>2</th>\n",
              "      <td>tryHackMe</td>\n",
              "      <td>[well, explained, concept]</td>\n",
              "      <td>1</td>\n",
              "      <td>Apr 6, 2025</td>\n",
              "    </tr>\n",
              "    <tr>\n",
              "      <th>3</th>\n",
              "      <td>tryHackMe</td>\n",
              "      <td>[tryhackme, platform, given, renewed, awarenes...</td>\n",
              "      <td>1</td>\n",
              "      <td>Apr 1, 2025</td>\n",
              "    </tr>\n",
              "    <tr>\n",
              "      <th>4</th>\n",
              "      <td>tryHackMe</td>\n",
              "      <td>[virtual, machines, freeze, every, minutes, re...</td>\n",
              "      <td>0</td>\n",
              "      <td>Apr 1, 2025</td>\n",
              "    </tr>\n",
              "  </tbody>\n",
              "</table>\n",
              "</div>"
            ],
            "text/plain": [
              "   Game Name                                             Review  \\\n",
              "0  tryHackMe  [great, platform, fresher, start, journey, cyb...   \n",
              "1  tryHackMe                [great, platform, start, guy, like]   \n",
              "2  tryHackMe                         [well, explained, concept]   \n",
              "3  tryHackMe  [tryhackme, platform, given, renewed, awarenes...   \n",
              "4  tryHackMe  [virtual, machines, freeze, every, minutes, re...   \n",
              "\n",
              "   Rating_binary         Date  \n",
              "0              1  Apr 7, 2025  \n",
              "1              1  Apr 7, 2025  \n",
              "2              1  Apr 6, 2025  \n",
              "3              1  Apr 1, 2025  \n",
              "4              0  Apr 1, 2025  "
            ]
          },
          "execution_count": 8,
          "metadata": {},
          "output_type": "execute_result"
        }
      ],
      "source": [
        "reviews_df = remove_stopwords(reviews_df)  # Remove stopwords & special characters\n",
        "reviews_df.head()"
      ]
    },
    {
      "cell_type": "code",
      "execution_count": 9,
      "metadata": {
        "colab": {
          "base_uri": "https://localhost:8080/",
          "height": 398
        },
        "id": "_7FwQnmYqJ9P",
        "outputId": "8239aef6-5991-43ed-ff56-20b691e2fd5d"
      },
      "outputs": [
        {
          "data": {
            "text/html": [
              "<div>\n",
              "<style scoped>\n",
              "    .dataframe tbody tr th:only-of-type {\n",
              "        vertical-align: middle;\n",
              "    }\n",
              "\n",
              "    .dataframe tbody tr th {\n",
              "        vertical-align: top;\n",
              "    }\n",
              "\n",
              "    .dataframe thead th {\n",
              "        text-align: right;\n",
              "    }\n",
              "</style>\n",
              "<table border=\"1\" class=\"dataframe\">\n",
              "  <thead>\n",
              "    <tr style=\"text-align: right;\">\n",
              "      <th></th>\n",
              "      <th>Game Name</th>\n",
              "      <th>Review</th>\n",
              "      <th>Rating_binary</th>\n",
              "      <th>Date</th>\n",
              "    </tr>\n",
              "  </thead>\n",
              "  <tbody>\n",
              "    <tr>\n",
              "      <th>0</th>\n",
              "      <td>tryHackMe</td>\n",
              "      <td>[great, platform, fresher, start, journey, cyb...</td>\n",
              "      <td>1</td>\n",
              "      <td>Apr 7, 2025</td>\n",
              "    </tr>\n",
              "    <tr>\n",
              "      <th>1</th>\n",
              "      <td>tryHackMe</td>\n",
              "      <td>[great, platform, start, guy, like]</td>\n",
              "      <td>1</td>\n",
              "      <td>Apr 7, 2025</td>\n",
              "    </tr>\n",
              "    <tr>\n",
              "      <th>2</th>\n",
              "      <td>tryHackMe</td>\n",
              "      <td>[well, explained, concept]</td>\n",
              "      <td>1</td>\n",
              "      <td>Apr 6, 2025</td>\n",
              "    </tr>\n",
              "    <tr>\n",
              "      <th>3</th>\n",
              "      <td>tryHackMe</td>\n",
              "      <td>[tryhackme, platform, given, renewed, awarenes...</td>\n",
              "      <td>1</td>\n",
              "      <td>Apr 1, 2025</td>\n",
              "    </tr>\n",
              "    <tr>\n",
              "      <th>4</th>\n",
              "      <td>tryHackMe</td>\n",
              "      <td>[virtual, machine, freeze, every, minute, rese...</td>\n",
              "      <td>0</td>\n",
              "      <td>Apr 1, 2025</td>\n",
              "    </tr>\n",
              "  </tbody>\n",
              "</table>\n",
              "</div>"
            ],
            "text/plain": [
              "   Game Name                                             Review  \\\n",
              "0  tryHackMe  [great, platform, fresher, start, journey, cyb...   \n",
              "1  tryHackMe                [great, platform, start, guy, like]   \n",
              "2  tryHackMe                         [well, explained, concept]   \n",
              "3  tryHackMe  [tryhackme, platform, given, renewed, awarenes...   \n",
              "4  tryHackMe  [virtual, machine, freeze, every, minute, rese...   \n",
              "\n",
              "   Rating_binary         Date  \n",
              "0              1  Apr 7, 2025  \n",
              "1              1  Apr 7, 2025  \n",
              "2              1  Apr 6, 2025  \n",
              "3              1  Apr 1, 2025  \n",
              "4              0  Apr 1, 2025  "
            ]
          },
          "execution_count": 9,
          "metadata": {},
          "output_type": "execute_result"
        }
      ],
      "source": [
        "reviews_df = lemmatize_text(reviews_df)  # Lemmatization\n",
        "reviews_df.head()"
      ]
    },
    {
      "cell_type": "code",
      "execution_count": 10,
      "metadata": {
        "colab": {
          "base_uri": "https://localhost:8080/",
          "height": 398
        },
        "id": "wFH-T7pWqL3p",
        "outputId": "face7517-b2cb-49aa-cb0c-cafd738f077d"
      },
      "outputs": [
        {
          "data": {
            "text/html": [
              "<div>\n",
              "<style scoped>\n",
              "    .dataframe tbody tr th:only-of-type {\n",
              "        vertical-align: middle;\n",
              "    }\n",
              "\n",
              "    .dataframe tbody tr th {\n",
              "        vertical-align: top;\n",
              "    }\n",
              "\n",
              "    .dataframe thead th {\n",
              "        text-align: right;\n",
              "    }\n",
              "</style>\n",
              "<table border=\"1\" class=\"dataframe\">\n",
              "  <thead>\n",
              "    <tr style=\"text-align: right;\">\n",
              "      <th></th>\n",
              "      <th>Game Name</th>\n",
              "      <th>Review</th>\n",
              "      <th>Rating_binary</th>\n",
              "      <th>Date</th>\n",
              "    </tr>\n",
              "  </thead>\n",
              "  <tbody>\n",
              "    <tr>\n",
              "      <th>0</th>\n",
              "      <td>tryHackMe</td>\n",
              "      <td>great platform fresher start journey cyber sec...</td>\n",
              "      <td>1</td>\n",
              "      <td>Apr 7, 2025</td>\n",
              "    </tr>\n",
              "    <tr>\n",
              "      <th>1</th>\n",
              "      <td>tryHackMe</td>\n",
              "      <td>great platform start guy like</td>\n",
              "      <td>1</td>\n",
              "      <td>Apr 7, 2025</td>\n",
              "    </tr>\n",
              "    <tr>\n",
              "      <th>2</th>\n",
              "      <td>tryHackMe</td>\n",
              "      <td>well explained concept</td>\n",
              "      <td>1</td>\n",
              "      <td>Apr 6, 2025</td>\n",
              "    </tr>\n",
              "    <tr>\n",
              "      <th>3</th>\n",
              "      <td>tryHackMe</td>\n",
              "      <td>tryhackme platform given renewed awareness hac...</td>\n",
              "      <td>1</td>\n",
              "      <td>Apr 1, 2025</td>\n",
              "    </tr>\n",
              "    <tr>\n",
              "      <th>4</th>\n",
              "      <td>tryHackMe</td>\n",
              "      <td>virtual machine freeze every minute reset dont...</td>\n",
              "      <td>0</td>\n",
              "      <td>Apr 1, 2025</td>\n",
              "    </tr>\n",
              "  </tbody>\n",
              "</table>\n",
              "</div>"
            ],
            "text/plain": [
              "   Game Name                                             Review  \\\n",
              "0  tryHackMe  great platform fresher start journey cyber sec...   \n",
              "1  tryHackMe                      great platform start guy like   \n",
              "2  tryHackMe                             well explained concept   \n",
              "3  tryHackMe  tryhackme platform given renewed awareness hac...   \n",
              "4  tryHackMe  virtual machine freeze every minute reset dont...   \n",
              "\n",
              "   Rating_binary         Date  \n",
              "0              1  Apr 7, 2025  \n",
              "1              1  Apr 7, 2025  \n",
              "2              1  Apr 6, 2025  \n",
              "3              1  Apr 1, 2025  \n",
              "4              0  Apr 1, 2025  "
            ]
          },
          "execution_count": 10,
          "metadata": {},
          "output_type": "execute_result"
        }
      ],
      "source": [
        "reviews_df = join_tokens(reviews_df)  # Join words back into text\n",
        "reviews_df.head()"
      ]
    },
    {
      "cell_type": "code",
      "execution_count": 11,
      "metadata": {
        "colab": {
          "base_uri": "https://localhost:8080/"
        },
        "id": "8Qg7haTAqNzv",
        "outputId": "061c7ae7-2521-4921-c82f-391bb0c1848f"
      },
      "outputs": [
        {
          "data": {
            "text/html": [
              "<div>\n",
              "<style scoped>\n",
              "    .dataframe tbody tr th:only-of-type {\n",
              "        vertical-align: middle;\n",
              "    }\n",
              "\n",
              "    .dataframe tbody tr th {\n",
              "        vertical-align: top;\n",
              "    }\n",
              "\n",
              "    .dataframe thead th {\n",
              "        text-align: right;\n",
              "    }\n",
              "</style>\n",
              "<table border=\"1\" class=\"dataframe\">\n",
              "  <thead>\n",
              "    <tr style=\"text-align: right;\">\n",
              "      <th></th>\n",
              "      <th>Game Name</th>\n",
              "      <th>Review</th>\n",
              "      <th>Rating_binary</th>\n",
              "      <th>Date</th>\n",
              "    </tr>\n",
              "  </thead>\n",
              "  <tbody>\n",
              "    <tr>\n",
              "      <th>0</th>\n",
              "      <td>tryHackMe</td>\n",
              "      <td>great platform fresher start journey cyber sec...</td>\n",
              "      <td>1</td>\n",
              "      <td>Apr 7, 2025</td>\n",
              "    </tr>\n",
              "    <tr>\n",
              "      <th>1</th>\n",
              "      <td>tryHackMe</td>\n",
              "      <td>great platform start guy like</td>\n",
              "      <td>1</td>\n",
              "      <td>Apr 7, 2025</td>\n",
              "    </tr>\n",
              "    <tr>\n",
              "      <th>2</th>\n",
              "      <td>tryHackMe</td>\n",
              "      <td>well explained concept</td>\n",
              "      <td>1</td>\n",
              "      <td>Apr 6, 2025</td>\n",
              "    </tr>\n",
              "    <tr>\n",
              "      <th>3</th>\n",
              "      <td>tryHackMe</td>\n",
              "      <td>tryhackme platform given renewed awareness hac...</td>\n",
              "      <td>1</td>\n",
              "      <td>Apr 1, 2025</td>\n",
              "    </tr>\n",
              "    <tr>\n",
              "      <th>4</th>\n",
              "      <td>tryHackMe</td>\n",
              "      <td>virtual machine freeze every minute reset dont...</td>\n",
              "      <td>0</td>\n",
              "      <td>Apr 1, 2025</td>\n",
              "    </tr>\n",
              "  </tbody>\n",
              "</table>\n",
              "</div>"
            ],
            "text/plain": [
              "   Game Name                                             Review  \\\n",
              "0  tryHackMe  great platform fresher start journey cyber sec...   \n",
              "1  tryHackMe                      great platform start guy like   \n",
              "2  tryHackMe                             well explained concept   \n",
              "3  tryHackMe  tryhackme platform given renewed awareness hac...   \n",
              "4  tryHackMe  virtual machine freeze every minute reset dont...   \n",
              "\n",
              "   Rating_binary         Date  \n",
              "0              1  Apr 7, 2025  \n",
              "1              1  Apr 7, 2025  \n",
              "2              1  Apr 6, 2025  \n",
              "3              1  Apr 1, 2025  \n",
              "4              0  Apr 1, 2025  "
            ]
          },
          "execution_count": 11,
          "metadata": {},
          "output_type": "execute_result"
        }
      ],
      "source": [
        "reviews_df, tfidf_matrix, vectorizer = convert_to_tfidf(reviews_df)  # TF-IDF conversion\n",
        "reviews_df.head()"
      ]
    },
    {
      "cell_type": "code",
      "execution_count": 15,
      "metadata": {},
      "outputs": [
        {
          "name": "stdout",
          "output_type": "stream",
          "text": [
            "<Compressed Sparse Row sparse matrix of dtype 'float64'\n",
            "\twith 405630 stored elements and shape (15140, 21097)>\n",
            "  Coords\tValues\n",
            "  (0, 7830)\t0.14982208662995705\n",
            "  (0, 13270)\t0.2710906980010294\n",
            "  (0, 7103)\t0.4957820248029534\n",
            "  (0, 17043)\t0.20599345289754067\n",
            "  (0, 9829)\t0.3262237041484951\n",
            "  (0, 4093)\t0.24422941811593282\n",
            "  (0, 15838)\t0.23536594370167635\n",
            "  (0, 13590)\t0.3854389700936886\n",
            "  (0, 18074)\t0.4957820248029534\n",
            "  (1, 7830)\t0.31041416984406695\n",
            "  (1, 13270)\t0.5616688157619897\n",
            "  (1, 17043)\t0.42679479449805957\n",
            "  (1, 7961)\t0.5810405488896291\n",
            "  (1, 10383)\t0.26155165550219805\n",
            "  (2, 19824)\t0.4096960077193987\n",
            "  (2, 6305)\t0.7489823231455665\n",
            "  (2, 3388)\t0.5207443335018218\n",
            "  (3, 7830)\t0.106265352843324\n",
            "  (3, 13270)\t0.19227838380581122\n",
            "  (3, 18659)\t0.1987141668344872\n",
            "  (3, 7602)\t0.18722659777587639\n",
            "  (3, 14874)\t0.3203710575601153\n",
            "  (3, 1321)\t0.31109446615642417\n",
            "  (3, 7991)\t0.12981748111618083\n",
            "  (3, 10226)\t0.3033428849770176\n",
            "  :\t:\n",
            "  (15138, 14913)\t0.3065277761538771\n",
            "  (15139, 10383)\t0.11589577351548361\n",
            "  (15139, 7991)\t0.16803244722514393\n",
            "  (15139, 14129)\t0.14889516949821732\n",
            "  (15139, 10763)\t0.14745035823785976\n",
            "  (15139, 7697)\t0.13268083227061003\n",
            "  (15139, 14457)\t0.2682018774767841\n",
            "  (15139, 12358)\t0.13989687819915242\n",
            "  (15139, 7198)\t0.12205299852320203\n",
            "  (15139, 9408)\t0.29828657103479383\n",
            "  (15139, 8036)\t0.13043953105850475\n",
            "  (15139, 18254)\t0.14101647682519175\n",
            "  (15139, 16269)\t0.20154245628982337\n",
            "  (15139, 6603)\t0.1521466504276541\n",
            "  (15139, 237)\t0.18857244870945017\n",
            "  (15139, 20152)\t0.18227524858458266\n",
            "  (15139, 6715)\t0.26199238633283833\n",
            "  (15139, 14368)\t0.23758599032088482\n",
            "  (15139, 1504)\t0.24142426966077024\n",
            "  (15139, 4800)\t0.2316059041801089\n",
            "  (15139, 7304)\t0.07024000111001054\n",
            "  (15139, 7360)\t0.18097613833141357\n",
            "  (15139, 17189)\t0.14955455522667022\n",
            "  (15139, 8534)\t0.2988875642614558\n",
            "  (15139, 6647)\t0.38156273635775234\n"
          ]
        }
      ],
      "source": [
        "print(tfidf_matrix)"
      ]
    },
    {
      "cell_type": "markdown",
      "metadata": {},
      "source": [
        "#### Tokenization"
      ]
    },
    {
      "cell_type": "code",
      "execution_count": 12,
      "metadata": {
        "colab": {
          "base_uri": "https://localhost:8080/"
        },
        "id": "a9YSvle6Z73g",
        "outputId": "ca325d1f-5007-46d6-ba32-6b3b4e39d38b"
      },
      "outputs": [
        {
          "name": "stdout",
          "output_type": "stream",
          "text": [
            "<OOV>: 1\n",
            "game: 2\n",
            "like: 3\n",
            "hacking: 4\n",
            "get: 5\n",
            "fun: 6\n",
            "really: 7\n",
            "one: 8\n",
            "time: 9\n",
            "good: 10\n"
          ]
        }
      ],
      "source": [
        "# Tokenization\n",
        "tokenizer = Tokenizer(num_words=2000, oov_token=\"<OOV>\")\n",
        "tokenizer.fit_on_texts(reviews_df['Review'])\n",
        "sequences = tokenizer.texts_to_sequences(reviews_df['Review'])\n",
        "\n",
        "# Get the word index (word → index)\n",
        "word_index = tokenizer.word_index\n",
        "\n",
        "# Print the first 10 words\n",
        "for word, index in list(word_index.items())[:10]:\n",
        "    print(f\"{word}: {index}\")\n",
        "\n",
        "# Save tokenizer to JSON\n",
        "tokenizer_json = tokenizer.to_json()\n",
        "with open('tokenizer.json', 'w', encoding='utf-8') as f:\n",
        "    f.write(tokenizer_json)"
      ]
    },
    {
      "cell_type": "code",
      "execution_count": 17,
      "metadata": {
        "id": "7-1pZ79RZ1Vb"
      },
      "outputs": [
        {
          "name": "stdout",
          "output_type": "stream",
          "text": [
            "[1 1 1 ... 1 1 1]\n"
          ]
        }
      ],
      "source": [
        "max_length = 150  # Adjust based on dataset\n",
        "X = pad_sequences(sequences, maxlen=max_length)\n",
        "y = reviews_df['Rating_binary'].values  # Target labels (0, 1)\n",
        "print(y)"
      ]
    },
    {
      "cell_type": "code",
      "execution_count": 18,
      "metadata": {
        "id": "6W9UhaOrkye3"
      },
      "outputs": [
        {
          "name": "stdout",
          "output_type": "stream",
          "text": [
            "Review 1: [12, 352, 1, 80, 987, 184, 172, 1, 1]\n",
            "Review 2: [12, 352, 80, 415, 3]\n",
            "Review 3: [31, 1168, 157]\n",
            "Review 4: [355, 352, 306, 1, 1, 26, 94, 12, 94, 421, 1, 479, 52, 1, 1, 941, 211, 52]\n",
            "Review 5: [795, 308, 1, 85, 346, 1482, 438, 163, 972, 346, 1544, 400, 346, 1, 1]\n",
            "Review 6: [355, 259, 94, 66, 988, 1, 63, 276, 11, 119, 94, 515, 147, 1, 105, 22, 42, 1, 1378, 641, 168, 699, 14, 10, 107]\n",
            "Review 7: [7, 10, 277, 542, 1, 184, 172]\n",
            "Review 8: [1, 184, 172, 368, 325, 355, 915, 713, 31, 538, 276, 259, 160, 1, 1211, 828]\n",
            "Review 9: [94, 352, 96, 180, 1545, 31, 1747, 201, 34, 352, 179, 796, 80, 1211, 255, 1, 691]\n",
            "Review 10: [56, 688, 1979, 479, 255]\n"
          ]
        }
      ],
      "source": [
        "for i, seq in enumerate(sequences[:10]):  # Print first 5 tokenized sequences\n",
        "    print(f\"Review {i+1}: {seq}\")"
      ]
    },
    {
      "cell_type": "markdown",
      "metadata": {},
      "source": [
        "#### Split data"
      ]
    },
    {
      "cell_type": "code",
      "execution_count": null,
      "metadata": {
        "id": "LBnqHYsgfhrw"
      },
      "outputs": [],
      "source": [
        "# Split into train & test\n",
        "X_temp, X_test, y_temp, y_test = train_test_split(X, y, test_size=0.1, random_state=42)\n",
        "\n",
        "X_train, X_val, y_train, y_val = train_test_split(X_temp, y_temp, test_size=0.2, random_state=42)"
      ]
    },
    {
      "cell_type": "markdown",
      "metadata": {},
      "source": [
        "#### Configure callback model optimizations"
      ]
    },
    {
      "cell_type": "code",
      "execution_count": 20,
      "metadata": {
        "id": "BJt_Plpjt5Jv"
      },
      "outputs": [],
      "source": [
        "# Add ReduceLROnPlateau callback\n",
        "reduce_lr = ReduceLROnPlateau(monitor='val_loss', factor=0.5, patience=5, min_lr=0.0001)\n",
        "\n",
        "# Add EarlyStopping callback\n",
        "early_stopping = EarlyStopping(monitor='val_loss', patience=10, restore_best_weights=True, verbose=1)\n",
        "\n",
        "# Add ModelCheckpoint callback\n",
        "model_Checkpoint = ModelCheckpoint('model_1.keras', save_best_only=True)"
      ]
    },
    {
      "cell_type": "markdown",
      "metadata": {},
      "source": [
        "#### Build the model structure"
      ]
    },
    {
      "cell_type": "code",
      "execution_count": 2,
      "metadata": {
        "colab": {
          "base_uri": "https://localhost:8080/"
        },
        "id": "qXkjt5yrflQ6",
        "outputId": "8d747c6c-23ce-4761-c0cd-d31bb2ffc87c"
      },
      "outputs": [
        {
          "name": "stderr",
          "output_type": "stream",
          "text": [
            "c:\\Users\\DELL\\AppData\\Local\\Programs\\Python\\Python312\\Lib\\site-packages\\keras\\src\\layers\\core\\embedding.py:90: UserWarning: Argument `input_length` is deprecated. Just remove it.\n",
            "  warnings.warn(\n"
          ]
        }
      ],
      "source": [
        "from tensorflow.keras.models import Sequential\n",
        "from tensorflow.keras.layers import Embedding, Bidirectional, LSTM, Dropout, Dense, LayerNormalization\n",
        "from tensorflow.keras.regularizers import l1_l2\n",
        "\n",
        "model = Sequential([\n",
        "    # Embedding layer with reduced vocab size\n",
        "    Embedding(input_dim=2000, output_dim=128, input_length=150),\n",
        "\n",
        "    # First Bidirectional LSTM layer (with layer norm and dropout)\n",
        "    Bidirectional(LSTM(64, return_sequences=True, kernel_regularizer=l1_l2(l1=1e-5, l2=1e-4))),\n",
        "    LayerNormalization(),\n",
        "\n",
        "    # Second LSTM layer (not bidirectional to reduce complexity)\n",
        "    LSTM(32, kernel_regularizer=l1_l2(l1=1e-5, l2=1e-4)),\n",
        "    Dropout(0.4),\n",
        "\n",
        "    # Fully connected layer\n",
        "    Dense(64, activation='relu', kernel_regularizer=l1_l2(l1=1e-5, l2=1e-4)),\n",
        "    Dropout(0.4),\n",
        "\n",
        "    # Output layer for binary classification\n",
        "    Dense(1, activation='sigmoid')\n",
        "])\n",
        "\n"
      ]
    },
    {
      "cell_type": "markdown",
      "metadata": {},
      "source": [
        "#### Compile Model"
      ]
    },
    {
      "cell_type": "code",
      "execution_count": 22,
      "metadata": {
        "id": "s-mihSw1akd3"
      },
      "outputs": [],
      "source": [
        "# Compile model\n",
        "from tensorflow.keras.optimizers import Adam\n",
        "model.compile(loss='binary_crossentropy', optimizer=Adam(learning_rate=0.00001), metrics=['accuracy'])\n",
        "# loss='sparse_categorical_crossentropy'"
      ]
    },
    {
      "cell_type": "markdown",
      "metadata": {},
      "source": [
        "#### Train Model"
      ]
    },
    {
      "cell_type": "code",
      "execution_count": null,
      "metadata": {
        "colab": {
          "base_uri": "https://localhost:8080/"
        },
        "id": "Bs_u6V32anPb",
        "outputId": "4bc835cd-e919-48df-8714-621079376ab3"
      },
      "outputs": [
        {
          "name": "stdout",
          "output_type": "stream",
          "text": [
            "Epoch 1/50\n",
            "\u001b[1m426/426\u001b[0m \u001b[32m━━━━━━━━━━━━━━━━━━━━\u001b[0m\u001b[37m\u001b[0m \u001b[1m48s\u001b[0m 101ms/step - accuracy: 0.7544 - loss: 0.6852 - val_accuracy: 0.8857 - val_loss: 0.5106 - learning_rate: 1.0000e-05\n",
            "Epoch 2/50\n",
            "\u001b[1m426/426\u001b[0m \u001b[32m━━━━━━━━━━━━━━━━━━━━\u001b[0m\u001b[37m\u001b[0m \u001b[1m42s\u001b[0m 98ms/step - accuracy: 0.8802 - loss: 0.5176 - val_accuracy: 0.8857 - val_loss: 0.4600 - learning_rate: 1.0000e-05\n",
            "Epoch 3/50\n",
            "\u001b[1m426/426\u001b[0m \u001b[32m━━━━━━━━━━━━━━━━━━━━\u001b[0m\u001b[37m\u001b[0m \u001b[1m42s\u001b[0m 98ms/step - accuracy: 0.8888 - loss: 0.4735 - val_accuracy: 0.8857 - val_loss: 0.4479 - learning_rate: 1.0000e-05\n",
            "Epoch 4/50\n",
            "\u001b[1m426/426\u001b[0m \u001b[32m━━━━━━━━━━━━━━━━━━━━\u001b[0m\u001b[37m\u001b[0m \u001b[1m42s\u001b[0m 99ms/step - accuracy: 0.8923 - loss: 0.4586 - val_accuracy: 0.8857 - val_loss: 0.4423 - learning_rate: 1.0000e-05\n",
            "Epoch 5/50\n",
            "\u001b[1m426/426\u001b[0m \u001b[32m━━━━━━━━━━━━━━━━━━━━\u001b[0m\u001b[37m\u001b[0m \u001b[1m42s\u001b[0m 100ms/step - accuracy: 0.8898 - loss: 0.4569 - val_accuracy: 0.8857 - val_loss: 0.4376 - learning_rate: 1.0000e-05\n",
            "Epoch 6/50\n",
            "\u001b[1m426/426\u001b[0m \u001b[32m━━━━━━━━━━━━━━━━━━━━\u001b[0m\u001b[37m\u001b[0m \u001b[1m44s\u001b[0m 104ms/step - accuracy: 0.8840 - loss: 0.4567 - val_accuracy: 0.8857 - val_loss: 0.4328 - learning_rate: 1.0000e-05\n",
            "Epoch 7/50\n",
            "\u001b[1m426/426\u001b[0m \u001b[32m━━━━━━━━━━━━━━━━━━━━\u001b[0m\u001b[37m\u001b[0m \u001b[1m44s\u001b[0m 102ms/step - accuracy: 0.8912 - loss: 0.4375 - val_accuracy: 0.8857 - val_loss: 0.4277 - learning_rate: 1.0000e-05\n",
            "Epoch 8/50\n",
            "\u001b[1m426/426\u001b[0m \u001b[32m━━━━━━━━━━━━━━━━━━━━\u001b[0m\u001b[37m\u001b[0m \u001b[1m46s\u001b[0m 107ms/step - accuracy: 0.8904 - loss: 0.4305 - val_accuracy: 0.8857 - val_loss: 0.4200 - learning_rate: 1.0000e-05\n",
            "Epoch 9/50\n",
            "\u001b[1m426/426\u001b[0m \u001b[32m━━━━━━━━━━━━━━━━━━━━\u001b[0m\u001b[37m\u001b[0m \u001b[1m45s\u001b[0m 104ms/step - accuracy: 0.8928 - loss: 0.4171 - val_accuracy: 0.8857 - val_loss: 0.4118 - learning_rate: 1.0000e-05\n",
            "Epoch 10/50\n",
            "\u001b[1m426/426\u001b[0m \u001b[32m━━━━━━━━━━━━━━━━━━━━\u001b[0m\u001b[37m\u001b[0m \u001b[1m44s\u001b[0m 103ms/step - accuracy: 0.8924 - loss: 0.4058 - val_accuracy: 0.8857 - val_loss: 0.4018 - learning_rate: 1.0000e-05\n",
            "Epoch 11/50\n",
            "\u001b[1m426/426\u001b[0m \u001b[32m━━━━━━━━━━━━━━━━━━━━\u001b[0m\u001b[37m\u001b[0m \u001b[1m45s\u001b[0m 105ms/step - accuracy: 0.8946 - loss: 0.3895 - val_accuracy: 0.8857 - val_loss: 0.3859 - learning_rate: 1.0000e-05\n",
            "Epoch 12/50\n",
            "\u001b[1m426/426\u001b[0m \u001b[32m━━━━━━━━━━━━━━━━━━━━\u001b[0m\u001b[37m\u001b[0m \u001b[1m45s\u001b[0m 105ms/step - accuracy: 0.8977 - loss: 0.3663 - val_accuracy: 0.8857 - val_loss: 0.3704 - learning_rate: 1.0000e-05\n",
            "Epoch 13/50\n",
            "\u001b[1m426/426\u001b[0m \u001b[32m━━━━━━━━━━━━━━━━━━━━\u001b[0m\u001b[37m\u001b[0m \u001b[1m44s\u001b[0m 104ms/step - accuracy: 0.8996 - loss: 0.3533 - val_accuracy: 0.8884 - val_loss: 0.3584 - learning_rate: 1.0000e-05\n",
            "Epoch 14/50\n",
            "\u001b[1m426/426\u001b[0m \u001b[32m━━━━━━━━━━━━━━━━━━━━\u001b[0m\u001b[37m\u001b[0m \u001b[1m44s\u001b[0m 104ms/step - accuracy: 0.9027 - loss: 0.3405 - val_accuracy: 0.8956 - val_loss: 0.3439 - learning_rate: 1.0000e-05\n",
            "Epoch 15/50\n",
            "\u001b[1m426/426\u001b[0m \u001b[32m━━━━━━━━━━━━━━━━━━━━\u001b[0m\u001b[37m\u001b[0m \u001b[1m44s\u001b[0m 104ms/step - accuracy: 0.9093 - loss: 0.3238 - val_accuracy: 0.9049 - val_loss: 0.3311 - learning_rate: 1.0000e-05\n",
            "Epoch 16/50\n",
            "\u001b[1m426/426\u001b[0m \u001b[32m━━━━━━━━━━━━━━━━━━━━\u001b[0m\u001b[37m\u001b[0m \u001b[1m43s\u001b[0m 102ms/step - accuracy: 0.9108 - loss: 0.3092 - val_accuracy: 0.9082 - val_loss: 0.3252 - learning_rate: 1.0000e-05\n",
            "Epoch 17/50\n",
            "\u001b[1m426/426\u001b[0m \u001b[32m━━━━━━━━━━━━━━━━━━━━\u001b[0m\u001b[37m\u001b[0m \u001b[1m43s\u001b[0m 101ms/step - accuracy: 0.9197 - loss: 0.2968 - val_accuracy: 0.9055 - val_loss: 0.3189 - learning_rate: 1.0000e-05\n",
            "Epoch 18/50\n",
            "\u001b[1m426/426\u001b[0m \u001b[32m━━━━━━━━━━━━━━━━━━━━\u001b[0m\u001b[37m\u001b[0m \u001b[1m43s\u001b[0m 101ms/step - accuracy: 0.9221 - loss: 0.2862 - val_accuracy: 0.9082 - val_loss: 0.3154 - learning_rate: 1.0000e-05\n",
            "Epoch 19/50\n",
            "\u001b[1m426/426\u001b[0m \u001b[32m━━━━━━━━━━━━━━━━━━━━\u001b[0m\u001b[37m\u001b[0m \u001b[1m43s\u001b[0m 102ms/step - accuracy: 0.9315 - loss: 0.2694 - val_accuracy: 0.9122 - val_loss: 0.3163 - learning_rate: 1.0000e-05\n",
            "Epoch 20/50\n",
            "\u001b[1m426/426\u001b[0m \u001b[32m━━━━━━━━━━━━━━━━━━━━\u001b[0m\u001b[37m\u001b[0m \u001b[1m44s\u001b[0m 103ms/step - accuracy: 0.9331 - loss: 0.2647 - val_accuracy: 0.9095 - val_loss: 0.3086 - learning_rate: 1.0000e-05\n",
            "Epoch 21/50\n",
            "\u001b[1m426/426\u001b[0m \u001b[32m━━━━━━━━━━━━━━━━━━━━\u001b[0m\u001b[37m\u001b[0m \u001b[1m44s\u001b[0m 102ms/step - accuracy: 0.9325 - loss: 0.2568 - val_accuracy: 0.9089 - val_loss: 0.3092 - learning_rate: 1.0000e-05\n",
            "Epoch 22/50\n",
            "\u001b[1m426/426\u001b[0m \u001b[32m━━━━━━━━━━━━━━━━━━━━\u001b[0m\u001b[37m\u001b[0m \u001b[1m43s\u001b[0m 102ms/step - accuracy: 0.9334 - loss: 0.2593 - val_accuracy: 0.9095 - val_loss: 0.3104 - learning_rate: 1.0000e-05\n",
            "Epoch 23/50\n",
            "\u001b[1m426/426\u001b[0m \u001b[32m━━━━━━━━━━━━━━━━━━━━\u001b[0m\u001b[37m\u001b[0m \u001b[1m43s\u001b[0m 102ms/step - accuracy: 0.9402 - loss: 0.2460 - val_accuracy: 0.9095 - val_loss: 0.3151 - learning_rate: 1.0000e-05\n",
            "Epoch 24/50\n",
            "\u001b[1m426/426\u001b[0m \u001b[32m━━━━━━━━━━━━━━━━━━━━\u001b[0m\u001b[37m\u001b[0m \u001b[1m44s\u001b[0m 103ms/step - accuracy: 0.9388 - loss: 0.2503 - val_accuracy: 0.9102 - val_loss: 0.3103 - learning_rate: 1.0000e-05\n",
            "Epoch 25/50\n",
            "\u001b[1m426/426\u001b[0m \u001b[32m━━━━━━━━━━━━━━━━━━━━\u001b[0m\u001b[37m\u001b[0m \u001b[1m43s\u001b[0m 101ms/step - accuracy: 0.9445 - loss: 0.2373 - val_accuracy: 0.9115 - val_loss: 0.3149 - learning_rate: 1.0000e-05\n",
            "Epoch 26/50\n",
            "\u001b[1m426/426\u001b[0m \u001b[32m━━━━━━━━━━━━━━━━━━━━\u001b[0m\u001b[37m\u001b[0m \u001b[1m43s\u001b[0m 101ms/step - accuracy: 0.9484 - loss: 0.2223 - val_accuracy: 0.9148 - val_loss: 0.3175 - learning_rate: 1.0000e-05\n",
            "Epoch 27/50\n",
            "\u001b[1m426/426\u001b[0m \u001b[32m━━━━━━━━━━━━━━━━━━━━\u001b[0m\u001b[37m\u001b[0m \u001b[1m43s\u001b[0m 102ms/step - accuracy: 0.9468 - loss: 0.2248 - val_accuracy: 0.9135 - val_loss: 0.3178 - learning_rate: 1.0000e-05\n",
            "Epoch 28/50\n",
            "\u001b[1m426/426\u001b[0m \u001b[32m━━━━━━━━━━━━━━━━━━━━\u001b[0m\u001b[37m\u001b[0m \u001b[1m44s\u001b[0m 102ms/step - accuracy: 0.9493 - loss: 0.2215 - val_accuracy: 0.9095 - val_loss: 0.3186 - learning_rate: 1.0000e-05\n",
            "Epoch 29/50\n",
            "\u001b[1m426/426\u001b[0m \u001b[32m━━━━━━━━━━━━━━━━━━━━\u001b[0m\u001b[37m\u001b[0m \u001b[1m44s\u001b[0m 103ms/step - accuracy: 0.9448 - loss: 0.2226 - val_accuracy: 0.9122 - val_loss: 0.3193 - learning_rate: 1.0000e-05\n",
            "Epoch 30/50\n",
            "\u001b[1m426/426\u001b[0m \u001b[32m━━━━━━━━━━━━━━━━━━━━\u001b[0m\u001b[37m\u001b[0m \u001b[1m47s\u001b[0m 111ms/step - accuracy: 0.9530 - loss: 0.2081 - val_accuracy: 0.9135 - val_loss: 0.3209 - learning_rate: 1.0000e-05\n",
            "Epoch 30: early stopping\n",
            "Restoring model weights from the end of the best epoch: 20.\n"
          ]
        }
      ],
      "source": [
        "# Train model\n",
        "history = model.fit(\n",
        "    X_train,\n",
        "    y_train,\n",
        "    epochs=50,\n",
        "    batch_size=32,\n",
        "    validation_data=(X_val, y_val),\n",
        "    callbacks=[reduce_lr, early_stopping, model_Checkpoint],)"
      ]
    },
    {
      "cell_type": "markdown",
      "metadata": {},
      "source": [
        "#### Save Trained Model "
      ]
    },
    {
      "cell_type": "code",
      "execution_count": 24,
      "metadata": {},
      "outputs": [],
      "source": [
        "# After model.fit(), manually save the model\n",
        "# (EarlyStopping has restored the best weights by now)\n",
        "model.save('model_1.keras')"
      ]
    },
    {
      "cell_type": "markdown",
      "metadata": {},
      "source": [
        "#### Save History Of Trained Model "
      ]
    },
    {
      "cell_type": "code",
      "execution_count": 25,
      "metadata": {},
      "outputs": [],
      "source": [
        "# save history of epochs\n",
        "\n",
        "# Convert to DataFrame and save\n",
        "history_df = pd.DataFrame(history.history)\n",
        "history_df.to_csv('model_1_history.csv', index=False)"
      ]
    },
    {
      "cell_type": "markdown",
      "metadata": {},
      "source": [
        "#### Classification Report"
      ]
    },
    {
      "cell_type": "code",
      "execution_count": 26,
      "metadata": {
        "id": "XMZkv42manf-"
      },
      "outputs": [
        {
          "name": "stdout",
          "output_type": "stream",
          "text": [
            "\u001b[1m48/48\u001b[0m \u001b[32m━━━━━━━━━━━━━━━━━━━━\u001b[0m\u001b[37m\u001b[0m \u001b[1m2s\u001b[0m 38ms/step\n",
            "              precision    recall  f1-score   support\n",
            "\n",
            "           0       0.65      0.46      0.54       173\n",
            "           1       0.93      0.97      0.95      1341\n",
            "\n",
            "    accuracy                           0.91      1514\n",
            "   macro avg       0.79      0.71      0.74      1514\n",
            "weighted avg       0.90      0.91      0.90      1514\n",
            "\n"
          ]
        }
      ],
      "source": [
        "# Evaluate model\n",
        "y_pred = (model.predict(X_test) >0.5).astype(int)\n",
        "print(classification_report(y_test, y_pred))"
      ]
    },
    {
      "cell_type": "markdown",
      "metadata": {},
      "source": [
        "#### display the detailed architecture of the model"
      ]
    },
    {
      "cell_type": "code",
      "execution_count": 27,
      "metadata": {
        "id": "_PA7CFaHIpCp"
      },
      "outputs": [
        {
          "data": {
            "text/html": [
              "<pre style=\"white-space:pre;overflow-x:auto;line-height:normal;font-family:Menlo,'DejaVu Sans Mono',consolas,'Courier New',monospace\"><span style=\"font-weight: bold\">Model: \"sequential\"</span>\n",
              "</pre>\n"
            ],
            "text/plain": [
              "\u001b[1mModel: \"sequential\"\u001b[0m\n"
            ]
          },
          "metadata": {},
          "output_type": "display_data"
        },
        {
          "data": {
            "text/html": [
              "<pre style=\"white-space:pre;overflow-x:auto;line-height:normal;font-family:Menlo,'DejaVu Sans Mono',consolas,'Courier New',monospace\">┏━━━━━━━━━━━━━━━━━━━━━━━━━━━━━━━━━┳━━━━━━━━━━━━━━━━━━━━━━━━┳━━━━━━━━━━━━━━━┓\n",
              "┃<span style=\"font-weight: bold\"> Layer (type)                    </span>┃<span style=\"font-weight: bold\"> Output Shape           </span>┃<span style=\"font-weight: bold\">       Param # </span>┃\n",
              "┡━━━━━━━━━━━━━━━━━━━━━━━━━━━━━━━━━╇━━━━━━━━━━━━━━━━━━━━━━━━╇━━━━━━━━━━━━━━━┩\n",
              "│ embedding (<span style=\"color: #0087ff; text-decoration-color: #0087ff\">Embedding</span>)           │ (<span style=\"color: #00d7ff; text-decoration-color: #00d7ff\">None</span>, <span style=\"color: #00af00; text-decoration-color: #00af00\">150</span>, <span style=\"color: #00af00; text-decoration-color: #00af00\">128</span>)       │       <span style=\"color: #00af00; text-decoration-color: #00af00\">256,000</span> │\n",
              "├─────────────────────────────────┼────────────────────────┼───────────────┤\n",
              "│ bidirectional (<span style=\"color: #0087ff; text-decoration-color: #0087ff\">Bidirectional</span>)   │ (<span style=\"color: #00d7ff; text-decoration-color: #00d7ff\">None</span>, <span style=\"color: #00af00; text-decoration-color: #00af00\">150</span>, <span style=\"color: #00af00; text-decoration-color: #00af00\">128</span>)       │        <span style=\"color: #00af00; text-decoration-color: #00af00\">98,816</span> │\n",
              "├─────────────────────────────────┼────────────────────────┼───────────────┤\n",
              "│ layer_normalization             │ (<span style=\"color: #00d7ff; text-decoration-color: #00d7ff\">None</span>, <span style=\"color: #00af00; text-decoration-color: #00af00\">150</span>, <span style=\"color: #00af00; text-decoration-color: #00af00\">128</span>)       │           <span style=\"color: #00af00; text-decoration-color: #00af00\">256</span> │\n",
              "│ (<span style=\"color: #0087ff; text-decoration-color: #0087ff\">LayerNormalization</span>)            │                        │               │\n",
              "├─────────────────────────────────┼────────────────────────┼───────────────┤\n",
              "│ lstm_1 (<span style=\"color: #0087ff; text-decoration-color: #0087ff\">LSTM</span>)                   │ (<span style=\"color: #00d7ff; text-decoration-color: #00d7ff\">None</span>, <span style=\"color: #00af00; text-decoration-color: #00af00\">32</span>)             │        <span style=\"color: #00af00; text-decoration-color: #00af00\">20,608</span> │\n",
              "├─────────────────────────────────┼────────────────────────┼───────────────┤\n",
              "│ dropout (<span style=\"color: #0087ff; text-decoration-color: #0087ff\">Dropout</span>)               │ (<span style=\"color: #00d7ff; text-decoration-color: #00d7ff\">None</span>, <span style=\"color: #00af00; text-decoration-color: #00af00\">32</span>)             │             <span style=\"color: #00af00; text-decoration-color: #00af00\">0</span> │\n",
              "├─────────────────────────────────┼────────────────────────┼───────────────┤\n",
              "│ dense (<span style=\"color: #0087ff; text-decoration-color: #0087ff\">Dense</span>)                   │ (<span style=\"color: #00d7ff; text-decoration-color: #00d7ff\">None</span>, <span style=\"color: #00af00; text-decoration-color: #00af00\">64</span>)             │         <span style=\"color: #00af00; text-decoration-color: #00af00\">2,112</span> │\n",
              "├─────────────────────────────────┼────────────────────────┼───────────────┤\n",
              "│ dropout_1 (<span style=\"color: #0087ff; text-decoration-color: #0087ff\">Dropout</span>)             │ (<span style=\"color: #00d7ff; text-decoration-color: #00d7ff\">None</span>, <span style=\"color: #00af00; text-decoration-color: #00af00\">64</span>)             │             <span style=\"color: #00af00; text-decoration-color: #00af00\">0</span> │\n",
              "├─────────────────────────────────┼────────────────────────┼───────────────┤\n",
              "│ dense_1 (<span style=\"color: #0087ff; text-decoration-color: #0087ff\">Dense</span>)                 │ (<span style=\"color: #00d7ff; text-decoration-color: #00d7ff\">None</span>, <span style=\"color: #00af00; text-decoration-color: #00af00\">1</span>)              │            <span style=\"color: #00af00; text-decoration-color: #00af00\">65</span> │\n",
              "└─────────────────────────────────┴────────────────────────┴───────────────┘\n",
              "</pre>\n"
            ],
            "text/plain": [
              "┏━━━━━━━━━━━━━━━━━━━━━━━━━━━━━━━━━┳━━━━━━━━━━━━━━━━━━━━━━━━┳━━━━━━━━━━━━━━━┓\n",
              "┃\u001b[1m \u001b[0m\u001b[1mLayer (type)                   \u001b[0m\u001b[1m \u001b[0m┃\u001b[1m \u001b[0m\u001b[1mOutput Shape          \u001b[0m\u001b[1m \u001b[0m┃\u001b[1m \u001b[0m\u001b[1m      Param #\u001b[0m\u001b[1m \u001b[0m┃\n",
              "┡━━━━━━━━━━━━━━━━━━━━━━━━━━━━━━━━━╇━━━━━━━━━━━━━━━━━━━━━━━━╇━━━━━━━━━━━━━━━┩\n",
              "│ embedding (\u001b[38;5;33mEmbedding\u001b[0m)           │ (\u001b[38;5;45mNone\u001b[0m, \u001b[38;5;34m150\u001b[0m, \u001b[38;5;34m128\u001b[0m)       │       \u001b[38;5;34m256,000\u001b[0m │\n",
              "├─────────────────────────────────┼────────────────────────┼───────────────┤\n",
              "│ bidirectional (\u001b[38;5;33mBidirectional\u001b[0m)   │ (\u001b[38;5;45mNone\u001b[0m, \u001b[38;5;34m150\u001b[0m, \u001b[38;5;34m128\u001b[0m)       │        \u001b[38;5;34m98,816\u001b[0m │\n",
              "├─────────────────────────────────┼────────────────────────┼───────────────┤\n",
              "│ layer_normalization             │ (\u001b[38;5;45mNone\u001b[0m, \u001b[38;5;34m150\u001b[0m, \u001b[38;5;34m128\u001b[0m)       │           \u001b[38;5;34m256\u001b[0m │\n",
              "│ (\u001b[38;5;33mLayerNormalization\u001b[0m)            │                        │               │\n",
              "├─────────────────────────────────┼────────────────────────┼───────────────┤\n",
              "│ lstm_1 (\u001b[38;5;33mLSTM\u001b[0m)                   │ (\u001b[38;5;45mNone\u001b[0m, \u001b[38;5;34m32\u001b[0m)             │        \u001b[38;5;34m20,608\u001b[0m │\n",
              "├─────────────────────────────────┼────────────────────────┼───────────────┤\n",
              "│ dropout (\u001b[38;5;33mDropout\u001b[0m)               │ (\u001b[38;5;45mNone\u001b[0m, \u001b[38;5;34m32\u001b[0m)             │             \u001b[38;5;34m0\u001b[0m │\n",
              "├─────────────────────────────────┼────────────────────────┼───────────────┤\n",
              "│ dense (\u001b[38;5;33mDense\u001b[0m)                   │ (\u001b[38;5;45mNone\u001b[0m, \u001b[38;5;34m64\u001b[0m)             │         \u001b[38;5;34m2,112\u001b[0m │\n",
              "├─────────────────────────────────┼────────────────────────┼───────────────┤\n",
              "│ dropout_1 (\u001b[38;5;33mDropout\u001b[0m)             │ (\u001b[38;5;45mNone\u001b[0m, \u001b[38;5;34m64\u001b[0m)             │             \u001b[38;5;34m0\u001b[0m │\n",
              "├─────────────────────────────────┼────────────────────────┼───────────────┤\n",
              "│ dense_1 (\u001b[38;5;33mDense\u001b[0m)                 │ (\u001b[38;5;45mNone\u001b[0m, \u001b[38;5;34m1\u001b[0m)              │            \u001b[38;5;34m65\u001b[0m │\n",
              "└─────────────────────────────────┴────────────────────────┴───────────────┘\n"
            ]
          },
          "metadata": {},
          "output_type": "display_data"
        },
        {
          "data": {
            "text/html": [
              "<pre style=\"white-space:pre;overflow-x:auto;line-height:normal;font-family:Menlo,'DejaVu Sans Mono',consolas,'Courier New',monospace\"><span style=\"font-weight: bold\"> Total params: </span><span style=\"color: #00af00; text-decoration-color: #00af00\">1,133,573</span> (4.32 MB)\n",
              "</pre>\n"
            ],
            "text/plain": [
              "\u001b[1m Total params: \u001b[0m\u001b[38;5;34m1,133,573\u001b[0m (4.32 MB)\n"
            ]
          },
          "metadata": {},
          "output_type": "display_data"
        },
        {
          "data": {
            "text/html": [
              "<pre style=\"white-space:pre;overflow-x:auto;line-height:normal;font-family:Menlo,'DejaVu Sans Mono',consolas,'Courier New',monospace\"><span style=\"font-weight: bold\"> Trainable params: </span><span style=\"color: #00af00; text-decoration-color: #00af00\">377,857</span> (1.44 MB)\n",
              "</pre>\n"
            ],
            "text/plain": [
              "\u001b[1m Trainable params: \u001b[0m\u001b[38;5;34m377,857\u001b[0m (1.44 MB)\n"
            ]
          },
          "metadata": {},
          "output_type": "display_data"
        },
        {
          "data": {
            "text/html": [
              "<pre style=\"white-space:pre;overflow-x:auto;line-height:normal;font-family:Menlo,'DejaVu Sans Mono',consolas,'Courier New',monospace\"><span style=\"font-weight: bold\"> Non-trainable params: </span><span style=\"color: #00af00; text-decoration-color: #00af00\">0</span> (0.00 B)\n",
              "</pre>\n"
            ],
            "text/plain": [
              "\u001b[1m Non-trainable params: \u001b[0m\u001b[38;5;34m0\u001b[0m (0.00 B)\n"
            ]
          },
          "metadata": {},
          "output_type": "display_data"
        },
        {
          "data": {
            "text/html": [
              "<pre style=\"white-space:pre;overflow-x:auto;line-height:normal;font-family:Menlo,'DejaVu Sans Mono',consolas,'Courier New',monospace\"><span style=\"font-weight: bold\"> Optimizer params: </span><span style=\"color: #00af00; text-decoration-color: #00af00\">755,716</span> (2.88 MB)\n",
              "</pre>\n"
            ],
            "text/plain": [
              "\u001b[1m Optimizer params: \u001b[0m\u001b[38;5;34m755,716\u001b[0m (2.88 MB)\n"
            ]
          },
          "metadata": {},
          "output_type": "display_data"
        }
      ],
      "source": [
        "model.summary()"
      ]
    },
    {
      "cell_type": "markdown",
      "metadata": {},
      "source": [
        "#### Track the model accuracy and loss"
      ]
    },
    {
      "cell_type": "code",
      "execution_count": 28,
      "metadata": {
        "id": "6n5CYByIIqAb"
      },
      "outputs": [
        {
          "data": {
            "image/png": "[encoded data removed]",
            "text/plain": [
              "<Figure size 2000x800 with 2 Axes>"
            ]
          },
          "metadata": {},
          "output_type": "display_data"
        }
      ],
      "source": [
        "# Plotting the Model Accuracy & Model Loss vs Epochs (Hidden Input)\n",
        "import matplotlib.pyplot as plt\n",
        "plt.figure(figsize=[20,8])\n",
        "\n",
        "# summarize history for accuracy\n",
        "plt.subplot(1,2,1)\n",
        "plt.plot(history_df['accuracy'])\n",
        "plt.plot(history_df['val_accuracy'])\n",
        "plt.title('Model Accuracy', size=25, pad=20)\n",
        "plt.ylabel('Accuracy', size=15)\n",
        "plt.xlabel('Epoch', size=15)\n",
        "plt.legend(['Train_accuracy', 'Val_accuracy'], loc='upper left')\n",
        "# summarize history for loss\n",
        "\n",
        "plt.subplot(1,2,2)\n",
        "plt.plot(history_df['loss'])\n",
        "plt.plot(history_df['val_loss'])\n",
        "plt.title('Model Loss', size=25, pad=20)\n",
        "plt.ylabel('Loss', size=15)\n",
        "plt.xlabel('Epoch', size=15)\n",
        "plt.legend(['Train_loss', 'Val_loss'], loc='upper left')\n",
        "plt.show()"
      ]
    },
    {
      "cell_type": "code",
      "execution_count": 3,
      "metadata": {},
      "outputs": [
        {
          "name": "stderr",
          "output_type": "stream",
          "text": [
            "c:\\Users\\DELL\\AppData\\Local\\Programs\\Python\\Python312\\Lib\\site-packages\\visualkeras\\layered.py:86: UserWarning: The legend_text_spacing_offset parameter is deprecated and will be removed in a future release.\n",
            "  warnings.warn(\"The legend_text_spacing_offset parameter is deprecated and will be removed in a future release.\")\n"
          ]
        },
        {
          "data": {
            "image/png": "[encoded data removed]",
            "text/plain": [
              "<PIL.Image.Image image mode=RGBA size=329x628>"
            ]
          },
          "execution_count": 3,
          "metadata": {},
          "output_type": "execute_result"
        }
      ],
      "source": [
        "import visualkeras\n",
        "from PIL import ImageFont\n",
        "import tensorflow as tf\n",
        "\n",
        "# Build/call your model if not already done\n",
        "model(tf.zeros((1, 150)))  # if you haven't called it\n",
        "\n",
        "# Optional font\n",
        "try:\n",
        "    font = ImageFont.truetype(\"arial.ttf\", 14)\n",
        "except:\n",
        "    font = None\n",
        "\n",
        "# Generate the image\n",
        "visualkeras.layered_view(model, scale_xy=3, legend=True)"
      ]
    },
    {
      "cell_type": "markdown",
      "metadata": {},
      "source": [
        "#### Load the trained model"
      ]
    },
    {
      "cell_type": "code",
      "execution_count": 13,
      "metadata": {},
      "outputs": [],
      "source": [
        "from keras.models import load_model\n",
        "from keras.utils import get_custom_objects\n",
        "\n",
        "get_custom_objects().update({'TextAttention': TextAttention})\n",
        "\n",
        "# Load the model\n",
        "model = load_model('model_1.keras', custom_objects={'TextAttention': TextAttention})\n",
        "# , custom_objects={'TextAttention': TextAttention}\n"
      ]
    },
    {
      "cell_type": "markdown",
      "metadata": {},
      "source": [
        " #### Load and sample random reviews"
      ]
    },
    {
      "cell_type": "code",
      "execution_count": 15,
      "metadata": {},
      "outputs": [
        {
          "name": "stdout",
          "output_type": "stream",
          "text": [
            "Index(['Game Name', 'Review', 'Rating_binary', 'Date'], dtype='object')\n"
          ]
        },
        {
          "data": {
            "text/html": [
              "<div>\n",
              "<style scoped>\n",
              "    .dataframe tbody tr th:only-of-type {\n",
              "        vertical-align: middle;\n",
              "    }\n",
              "\n",
              "    .dataframe tbody tr th {\n",
              "        vertical-align: top;\n",
              "    }\n",
              "\n",
              "    .dataframe thead th {\n",
              "        text-align: right;\n",
              "    }\n",
              "</style>\n",
              "<table border=\"1\" class=\"dataframe\">\n",
              "  <thead>\n",
              "    <tr style=\"text-align: right;\">\n",
              "      <th></th>\n",
              "      <th>Game Name</th>\n",
              "      <th>Review</th>\n",
              "      <th>Rating_binary</th>\n",
              "      <th>Date</th>\n",
              "    </tr>\n",
              "  </thead>\n",
              "  <tbody>\n",
              "    <tr>\n",
              "      <th>0</th>\n",
              "      <td>tryHackMe</td>\n",
              "      <td>Been using this platform for about 5 months no...</td>\n",
              "      <td>1</td>\n",
              "      <td>Nov 22, 2024</td>\n",
              "    </tr>\n",
              "    <tr>\n",
              "      <th>1</th>\n",
              "      <td>NITE Team 4</td>\n",
              "      <td>Played this game at a friends for 2 days, stru...</td>\n",
              "      <td>1</td>\n",
              "      <td>Posted: August 2, 2020</td>\n",
              "    </tr>\n",
              "    <tr>\n",
              "      <th>2</th>\n",
              "      <td>hackmud</td>\n",
              "      <td>Fun game, helpful community, banger soundtrack...</td>\n",
              "      <td>1</td>\n",
              "      <td>Posted: May 26, 2024</td>\n",
              "    </tr>\n",
              "    <tr>\n",
              "      <th>3</th>\n",
              "      <td>EXAPUNKS</td>\n",
              "      <td>This is one of those games that might leave yo...</td>\n",
              "      <td>1</td>\n",
              "      <td>Posted: 23 August, 2018</td>\n",
              "    </tr>\n",
              "    <tr>\n",
              "      <th>4</th>\n",
              "      <td>Quadrilateral Cowboy</td>\n",
              "      <td>Brendon Chung is one of my favorite indie devs...</td>\n",
              "      <td>1</td>\n",
              "      <td>Posted: 29 December, 2018</td>\n",
              "    </tr>\n",
              "  </tbody>\n",
              "</table>\n",
              "</div>"
            ],
            "text/plain": [
              "              Game Name                                             Review  \\\n",
              "0             tryHackMe  Been using this platform for about 5 months no...   \n",
              "1           NITE Team 4  Played this game at a friends for 2 days, stru...   \n",
              "2               hackmud  Fun game, helpful community, banger soundtrack...   \n",
              "3              EXAPUNKS  This is one of those games that might leave yo...   \n",
              "4  Quadrilateral Cowboy  Brendon Chung is one of my favorite indie devs...   \n",
              "\n",
              "   Rating_binary                       Date  \n",
              "0              1               Nov 22, 2024  \n",
              "1              1     Posted: August 2, 2020  \n",
              "2              1       Posted: May 26, 2024  \n",
              "3              1    Posted: 23 August, 2018  \n",
              "4              1  Posted: 29 December, 2018  "
            ]
          },
          "execution_count": 15,
          "metadata": {},
          "output_type": "execute_result"
        }
      ],
      "source": [
        "import pandas as pd\n",
        "\n",
        "# Load the dataset\n",
        "df = pd.read_csv(\"Reviews.csv\")\n",
        "\n",
        "df['Review'] = df['Review'].astype('string')\n",
        "df = df.dropna(subset=['Rating_binary'])\n",
        "df['Rating_binary'] = df['Rating_binary'].astype(int)\n",
        "\n",
        "# View available columns (optional)\n",
        "print(df.columns)\n",
        "\n",
        "# Take 200 random samples\n",
        "sample_df = df.sample(n=5000, random_state=42).reset_index(drop=True)\n",
        "\n",
        "sample_df.head()\n"
      ]
    },
    {
      "cell_type": "markdown",
      "metadata": {},
      "source": [
        "#### Preprocess reviews for the model"
      ]
    },
    {
      "cell_type": "code",
      "execution_count": 16,
      "metadata": {},
      "outputs": [],
      "source": [
        "def preProcess_Data(df):\n",
        "    preProcessed_df = df.copy()\n",
        "    # 1. First convert all text to strings (in case some are None or other types)\n",
        "    preProcessed_df[\"Review\"] = preProcessed_df[\"Review\"].astype(str)\n",
        "\n",
        "    # 2. Remove rows with empty strings or whitespace-only strings\n",
        "    preProcessed_df = preProcessed_df[preProcessed_df[\"Review\"].str.strip().ne('')]\n",
        "    preProcessed_df = tokenize_text(preProcessed_df)\n",
        "    preProcessed_df = remove_stopwords(preProcessed_df)\n",
        "    preProcessed_df = lemmatize_text(preProcessed_df)\n",
        "    preProcessed_df = join_tokens(preProcessed_df)\n",
        "    preProcessed_df, tfidf_matrix, vectorizer = convert_to_tfidf(preProcessed_df)\n",
        "    return preProcessed_df\n"
      ]
    },
    {
      "cell_type": "markdown",
      "metadata": {},
      "source": [
        "#### Apply pre-process on sample reviews"
      ]
    },
    {
      "cell_type": "code",
      "execution_count": 19,
      "metadata": {},
      "outputs": [
        {
          "data": {
            "text/html": [
              "<div>\n",
              "<style scoped>\n",
              "    .dataframe tbody tr th:only-of-type {\n",
              "        vertical-align: middle;\n",
              "    }\n",
              "\n",
              "    .dataframe tbody tr th {\n",
              "        vertical-align: top;\n",
              "    }\n",
              "\n",
              "    .dataframe thead th {\n",
              "        text-align: right;\n",
              "    }\n",
              "</style>\n",
              "<table border=\"1\" class=\"dataframe\">\n",
              "  <thead>\n",
              "    <tr style=\"text-align: right;\">\n",
              "      <th></th>\n",
              "      <th>Game Name</th>\n",
              "      <th>Review</th>\n",
              "      <th>Rating_binary</th>\n",
              "      <th>Date</th>\n",
              "    </tr>\n",
              "  </thead>\n",
              "  <tbody>\n",
              "    <tr>\n",
              "      <th>0</th>\n",
              "      <td>tryHackMe</td>\n",
              "      <td>using platform month honestly say fun educatio...</td>\n",
              "      <td>1</td>\n",
              "      <td>Nov 22, 2024</td>\n",
              "    </tr>\n",
              "    <tr>\n",
              "      <th>1</th>\n",
              "      <td>NITE Team 4</td>\n",
              "      <td>played game friend day struggled greatly compl...</td>\n",
              "      <td>1</td>\n",
              "      <td>Posted: August 2, 2020</td>\n",
              "    </tr>\n",
              "    <tr>\n",
              "      <th>2</th>\n",
              "      <td>hackmud</td>\n",
              "      <td>fun game helpful community banger soundtrack g...</td>\n",
              "      <td>1</td>\n",
              "      <td>Posted: May 26, 2024</td>\n",
              "    </tr>\n",
              "    <tr>\n",
              "      <th>3</th>\n",
              "      <td>EXAPUNKS</td>\n",
              "      <td>one game might leave hungry much going worth a...</td>\n",
              "      <td>1</td>\n",
              "      <td>Posted: 23 August, 2018</td>\n",
              "    </tr>\n",
              "    <tr>\n",
              "      <th>4</th>\n",
              "      <td>Quadrilateral Cowboy</td>\n",
              "      <td>brendon chung one favorite indie devs disappoi...</td>\n",
              "      <td>1</td>\n",
              "      <td>Posted: 29 December, 2018</td>\n",
              "    </tr>\n",
              "  </tbody>\n",
              "</table>\n",
              "</div>"
            ],
            "text/plain": [
              "              Game Name                                             Review  \\\n",
              "0             tryHackMe  using platform month honestly say fun educatio...   \n",
              "1           NITE Team 4  played game friend day struggled greatly compl...   \n",
              "2               hackmud  fun game helpful community banger soundtrack g...   \n",
              "3              EXAPUNKS  one game might leave hungry much going worth a...   \n",
              "4  Quadrilateral Cowboy  brendon chung one favorite indie devs disappoi...   \n",
              "\n",
              "   Rating_binary                       Date  \n",
              "0              1               Nov 22, 2024  \n",
              "1              1     Posted: August 2, 2020  \n",
              "2              1       Posted: May 26, 2024  \n",
              "3              1    Posted: 23 August, 2018  \n",
              "4              1  Posted: 29 December, 2018  "
            ]
          },
          "execution_count": 19,
          "metadata": {},
          "output_type": "execute_result"
        }
      ],
      "source": [
        "processed_df = preProcess_Data(sample_df)\n",
        "processed_df.head()"
      ]
    },
    {
      "cell_type": "markdown",
      "metadata": {},
      "source": [
        "#### Tokenization on pre-processed data"
      ]
    },
    {
      "cell_type": "code",
      "execution_count": 17,
      "metadata": {},
      "outputs": [],
      "source": [
        "from tensorflow.keras.preprocessing.text import tokenizer_from_json\n",
        "\n",
        "# Load tokenizer from JSON\n",
        "with open('tokenizer.json', 'r', encoding='utf-8') as f:\n",
        "    tokenizer_data = f.read()\n",
        "    tokenizer = tokenizer_from_json(tokenizer_data)"
      ]
    },
    {
      "cell_type": "code",
      "execution_count": 20,
      "metadata": {},
      "outputs": [
        {
          "name": "stdout",
          "output_type": "stream",
          "text": [
            "<OOV>: 1\n",
            "game: 2\n",
            "like: 3\n",
            "hacking: 4\n",
            "get: 5\n",
            "fun: 6\n",
            "really: 7\n",
            "one: 8\n",
            "time: 9\n",
            "good: 10\n",
            "puzzle: 11\n",
            "great: 12\n",
            "would: 13\n",
            "make: 14\n",
            "story: 15\n",
            "feel: 16\n",
            "play: 17\n",
            "even: 18\n",
            "thing: 19\n",
            "way: 20\n",
            "much: 21\n",
            "also: 22\n",
            "lot: 23\n",
            "real: 24\n",
            "command: 25\n",
            "programming: 26\n",
            "hacker: 27\n",
            "hour: 28\n",
            "mission: 29\n",
            "want: 30\n",
            "well: 31\n",
            "first: 32\n",
            "need: 33\n",
            "recommend: 34\n",
            "love: 35\n",
            "work: 36\n",
            "hack: 37\n",
            "still: 38\n",
            "know: 39\n",
            "experience: 40\n",
            "bit: 41\n",
            "think: 42\n",
            "use: 43\n",
            "could: 44\n",
            "played: 45\n",
            "little: 46\n",
            "computer: 47\n",
            "find: 48\n",
            "people: 49\n",
            "playing: 50\n",
            "learn: 51\n",
            "go: 52\n",
            "player: 53\n",
            "pretty: 54\n",
            "level: 55\n",
            "best: 56\n",
            "world: 57\n",
            "gameplay: 58\n",
            "got: 59\n",
            "new: 60\n",
            "give: 61\n",
            "something: 62\n",
            "see: 63\n",
            "system: 64\n",
            "interesting: 65\n",
            "tool: 66\n",
            "worth: 67\n",
            "say: 68\n",
            "hacknet: 69\n",
            "code: 70\n",
            "look: 71\n",
            "though: 72\n",
            "tutorial: 73\n",
            "actually: 74\n",
            "take: 75\n",
            "ca: 76\n",
            "better: 77\n",
            "enough: 78\n",
            "free: 79\n",
            "file: 80\n",
            "start: 81\n",
            "many: 82\n",
            "every: 83\n",
            "uplink: 84\n",
            "nice: 85\n",
            "never: 86\n",
            "buy: 87\n",
            "far: 88\n",
            "review: 89\n",
            "hard: 90\n",
            "back: 91\n",
            "try: 92\n",
            "learning: 93\n",
            "amazing: 94\n",
            "part: 95\n",
            "around: 96\n",
            "easy: 97\n",
            "made: 98\n",
            "ever: 99\n",
            "point: 100\n",
            "Successfully created padded sequences: (5000, 150)\n"
          ]
        }
      ],
      "source": [
        "\n",
        "tokenizer.fit_on_texts(processed_df['Review'])\n",
        "sequences = tokenizer.texts_to_sequences(processed_df['Review'])\n",
        "\n",
        "# Get the word index (word → index)\n",
        "word_index = tokenizer.word_index\n",
        "\n",
        "# Pad sequences to max length (same as used in training)\n",
        "x_input = pad_sequences(sequences, maxlen=150)\n",
        "\n",
        "# Print the first 10 words\n",
        "for word, index in list(word_index.items())[:100]:\n",
        "    print(f\"{word}: {index}\")\n",
        "\n",
        "# Usage:\n",
        "print(f\"Successfully created padded sequences: {x_input.shape}\")"
      ]
    },
    {
      "cell_type": "markdown",
      "metadata": {},
      "source": [
        "#### Predict using the model"
      ]
    },
    {
      "cell_type": "code",
      "execution_count": 21,
      "metadata": {},
      "outputs": [
        {
          "name": "stdout",
          "output_type": "stream",
          "text": [
            "\u001b[1m157/157\u001b[0m \u001b[32m━━━━━━━━━━━━━━━━━━━━\u001b[0m\u001b[37m\u001b[0m \u001b[1m7s\u001b[0m 36ms/step\n",
            "[[0.9749191 ]\n",
            " [0.83640957]\n",
            " [0.9743252 ]\n",
            " ...\n",
            " [0.9686448 ]\n",
            " [0.9637557 ]\n",
            " [0.9276376 ]]\n",
            "[[1]\n",
            " [1]\n",
            " [1]\n",
            " ...\n",
            " [1]\n",
            " [1]\n",
            " [1]]\n"
          ]
        },
        {
          "data": {
            "text/html": [
              "<div>\n",
              "<style scoped>\n",
              "    .dataframe tbody tr th:only-of-type {\n",
              "        vertical-align: middle;\n",
              "    }\n",
              "\n",
              "    .dataframe tbody tr th {\n",
              "        vertical-align: top;\n",
              "    }\n",
              "\n",
              "    .dataframe thead th {\n",
              "        text-align: right;\n",
              "    }\n",
              "</style>\n",
              "<table border=\"1\" class=\"dataframe\">\n",
              "  <thead>\n",
              "    <tr style=\"text-align: right;\">\n",
              "      <th></th>\n",
              "      <th>Game Name</th>\n",
              "      <th>Review</th>\n",
              "      <th>Rating_binary</th>\n",
              "      <th>Date</th>\n",
              "      <th>Predicted Label</th>\n",
              "    </tr>\n",
              "  </thead>\n",
              "  <tbody>\n",
              "    <tr>\n",
              "      <th>0</th>\n",
              "      <td>tryHackMe</td>\n",
              "      <td>using platform month honestly say fun educatio...</td>\n",
              "      <td>1</td>\n",
              "      <td>Nov 22, 2024</td>\n",
              "      <td>1</td>\n",
              "    </tr>\n",
              "    <tr>\n",
              "      <th>1</th>\n",
              "      <td>NITE Team 4</td>\n",
              "      <td>played game friend day struggled greatly compl...</td>\n",
              "      <td>1</td>\n",
              "      <td>Posted: August 2, 2020</td>\n",
              "      <td>1</td>\n",
              "    </tr>\n",
              "    <tr>\n",
              "      <th>2</th>\n",
              "      <td>hackmud</td>\n",
              "      <td>fun game helpful community banger soundtrack g...</td>\n",
              "      <td>1</td>\n",
              "      <td>Posted: May 26, 2024</td>\n",
              "      <td>1</td>\n",
              "    </tr>\n",
              "    <tr>\n",
              "      <th>3</th>\n",
              "      <td>EXAPUNKS</td>\n",
              "      <td>one game might leave hungry much going worth a...</td>\n",
              "      <td>1</td>\n",
              "      <td>Posted: 23 August, 2018</td>\n",
              "      <td>1</td>\n",
              "    </tr>\n",
              "    <tr>\n",
              "      <th>4</th>\n",
              "      <td>Quadrilateral Cowboy</td>\n",
              "      <td>brendon chung one favorite indie devs disappoi...</td>\n",
              "      <td>1</td>\n",
              "      <td>Posted: 29 December, 2018</td>\n",
              "      <td>1</td>\n",
              "    </tr>\n",
              "    <tr>\n",
              "      <th>...</th>\n",
              "      <td>...</td>\n",
              "      <td>...</td>\n",
              "      <td>...</td>\n",
              "      <td>...</td>\n",
              "      <td>...</td>\n",
              "    </tr>\n",
              "    <tr>\n",
              "      <th>95</th>\n",
              "      <td>Anonymous Hacker Simulator</td>\n",
              "      <td>hacking sim im blast</td>\n",
              "      <td>1</td>\n",
              "      <td>Posted: 4 April, 2024</td>\n",
              "      <td>1</td>\n",
              "    </tr>\n",
              "    <tr>\n",
              "      <th>96</th>\n",
              "      <td>Quadrilateral Cowboy</td>\n",
              "      <td>first encounter game development shown trailer...</td>\n",
              "      <td>0</td>\n",
              "      <td>Posted: 18 February, 2018</td>\n",
              "      <td>1</td>\n",
              "    </tr>\n",
              "    <tr>\n",
              "      <th>97</th>\n",
              "      <td>NITE Team 4</td>\n",
              "      <td>old school love terminal do bash powershell li...</td>\n",
              "      <td>1</td>\n",
              "      <td>Posted: November 15, 2020</td>\n",
              "      <td>1</td>\n",
              "    </tr>\n",
              "    <tr>\n",
              "      <th>98</th>\n",
              "      <td>EXAPUNKS</td>\n",
              "      <td>boring chance get interesting concept could get</td>\n",
              "      <td>0</td>\n",
              "      <td>Posted: 9 December, 2020</td>\n",
              "      <td>1</td>\n",
              "    </tr>\n",
              "    <tr>\n",
              "      <th>99</th>\n",
              "      <td>Quadrilateral Cowboy</td>\n",
              "      <td>excellent game puzzle hacking heist game asks ...</td>\n",
              "      <td>1</td>\n",
              "      <td>Posted: 26 September, 2017</td>\n",
              "      <td>1</td>\n",
              "    </tr>\n",
              "  </tbody>\n",
              "</table>\n",
              "<p>100 rows × 5 columns</p>\n",
              "</div>"
            ],
            "text/plain": [
              "                     Game Name  \\\n",
              "0                    tryHackMe   \n",
              "1                  NITE Team 4   \n",
              "2                      hackmud   \n",
              "3                     EXAPUNKS   \n",
              "4         Quadrilateral Cowboy   \n",
              "..                         ...   \n",
              "95  Anonymous Hacker Simulator   \n",
              "96        Quadrilateral Cowboy   \n",
              "97                 NITE Team 4   \n",
              "98                    EXAPUNKS   \n",
              "99        Quadrilateral Cowboy   \n",
              "\n",
              "                                               Review  Rating_binary  \\\n",
              "0   using platform month honestly say fun educatio...              1   \n",
              "1   played game friend day struggled greatly compl...              1   \n",
              "2   fun game helpful community banger soundtrack g...              1   \n",
              "3   one game might leave hungry much going worth a...              1   \n",
              "4   brendon chung one favorite indie devs disappoi...              1   \n",
              "..                                                ...            ...   \n",
              "95                               hacking sim im blast              1   \n",
              "96  first encounter game development shown trailer...              0   \n",
              "97  old school love terminal do bash powershell li...              1   \n",
              "98    boring chance get interesting concept could get              0   \n",
              "99  excellent game puzzle hacking heist game asks ...              1   \n",
              "\n",
              "                          Date  Predicted Label  \n",
              "0                 Nov 22, 2024                1  \n",
              "1       Posted: August 2, 2020                1  \n",
              "2         Posted: May 26, 2024                1  \n",
              "3      Posted: 23 August, 2018                1  \n",
              "4    Posted: 29 December, 2018                1  \n",
              "..                         ...              ...  \n",
              "95       Posted: 4 April, 2024                1  \n",
              "96   Posted: 18 February, 2018                1  \n",
              "97   Posted: November 15, 2020                1  \n",
              "98    Posted: 9 December, 2020                1  \n",
              "99  Posted: 26 September, 2017                1  \n",
              "\n",
              "[100 rows x 5 columns]"
            ]
          },
          "execution_count": 21,
          "metadata": {},
          "output_type": "execute_result"
        }
      ],
      "source": [
        "pred_probs = model.predict(x_input)\n",
        "pred_classes = (pred_probs > 0.5).astype(int)\n",
        "print(pred_probs)\n",
        "print(pred_classes)\n",
        "\n",
        "# Add predictions to DataFrame\n",
        "processed_df[\"Predicted Label\"] = pred_classes\n",
        "# processed_df[\"Predicted Label\"] = pred_labels\n",
        "processed_df.head(100)\n",
        "\n",
        "\n"
      ]
    },
    {
      "cell_type": "markdown",
      "metadata": {},
      "source": [
        "#### Save predictions to CSV"
      ]
    },
    {
      "cell_type": "code",
      "execution_count": 22,
      "metadata": {},
      "outputs": [
        {
          "name": "stdout",
          "output_type": "stream",
          "text": [
            "Saved predictions to predicted_amazon_reviews.csv\n"
          ]
        }
      ],
      "source": [
        "processed_df.to_csv(\"predicted_data.csv\", index=False)\n",
        "print(\"Saved predictions to predicted_amazon_reviews.csv\")"
      ]
    },
    {
      "cell_type": "markdown",
      "metadata": {},
      "source": [
        "#### Evaluate model accuracy (if ground truth is available)"
      ]
    },
    {
      "cell_type": "code",
      "execution_count": 23,
      "metadata": {},
      "outputs": [
        {
          "name": "stdout",
          "output_type": "stream",
          "text": [
            "Accuracy on 5000 reviews: 0.8714\n"
          ]
        }
      ],
      "source": [
        "from sklearn.preprocessing import LabelEncoder\n",
        "import pandas as pd\n",
        "import numpy as np\n",
        "\n",
        "# Load your data\n",
        "predicted_df = pd.read_csv('predicted_data.csv')\n",
        "predicted_df.head()\n",
        "\n",
        "# Define your class labels (adjust according to actual labels)\n",
        "class_labels = [0, 1]  \n",
        "\n",
        "# Transform labels to numerical values\n",
        "true_classes = (predicted_df[\"Rating_binary\"])\n",
        "pred_classes = (predicted_df[\"Predicted Label\"]) \n",
        "\n",
        "# # Calculate accuracy\n",
        "accuracy = np.mean(true_classes == pred_classes)\n",
        "print(f\"Accuracy on {len(predicted_df)} reviews: {accuracy:.4f}\")"
      ]
    },
    {
      "cell_type": "markdown",
      "metadata": {},
      "source": [
        "#### Confusion Matrix For Predicted Data"
      ]
    },
    {
      "cell_type": "code",
      "execution_count": 24,
      "metadata": {},
      "outputs": [
        {
          "data": {
            "image/png": "[encoded data removed]",
            "text/plain": [
              "<Figure size 640x480 with 2 Axes>"
            ]
          },
          "metadata": {},
          "output_type": "display_data"
        }
      ],
      "source": [
        "from sklearn.metrics import confusion_matrix, ConfusionMatrixDisplay\n",
        "import matplotlib.pyplot as plt\n",
        "\n",
        "# Make sure labels are integers\n",
        "true_classes = predicted_df[\"Rating_binary\"].astype(int)\n",
        "pred_classes = predicted_df[\"Predicted Label\"].astype(int)\n",
        "\n",
        "# Compute confusion matrix\n",
        "cm = confusion_matrix(true_classes, pred_classes, labels=[0, 1])\n",
        "\n",
        "# Display it\n",
        "disp = ConfusionMatrixDisplay(confusion_matrix=cm, display_labels=['Negative', 'Positive'])\n",
        "disp.plot(cmap=plt.cm.Blues)\n",
        "plt.title(\"Confusion Matrix\")\n",
        "plt.show()\n"
      ]
    }
  ],
  "metadata": {
    "accelerator": "GPU",
    "colab": {
      "gpuType": "T4",
      "provenance": []
    },
    "kernelspec": {
      "display_name": "Python 3",
      "name": "python3"
    },
    "language_info": {
      "codemirror_mode": {
        "name": "ipython",
        "version": 3
      },
      "file_extension": ".py",
      "mimetype": "text/x-python",
      "name": "python",
      "nbconvert_exporter": "python",
      "pygments_lexer": "ipython3",
      "version": "3.12.3"
    }
  },
  "nbformat": 4,
  "nbformat_minor": 0
}
